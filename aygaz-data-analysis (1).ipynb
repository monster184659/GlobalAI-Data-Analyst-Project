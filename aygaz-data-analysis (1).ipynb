{
 "cells": [
  {
   "cell_type": "markdown",
   "id": "2d1287cf",
   "metadata": {
    "papermill": {
     "duration": 0.013166,
     "end_time": "2024-11-23T20:52:43.606083",
     "exception": false,
     "start_time": "2024-11-23T20:52:43.592917",
     "status": "completed"
    },
    "tags": []
   },
   "source": [
    "**0. Veri Setinin Hazırlanması**"
   ]
  },
  {
   "cell_type": "code",
   "execution_count": 1,
   "id": "7a4023a2",
   "metadata": {
    "_cell_guid": "b1076dfc-b9ad-4769-8c92-a6c4dae69d19",
    "_uuid": "8f2839f25d086af736a60e9eeb907d3b93b6e0e5",
    "execution": {
     "iopub.execute_input": "2024-11-23T20:52:43.634987Z",
     "iopub.status.busy": "2024-11-23T20:52:43.634569Z",
     "iopub.status.idle": "2024-11-23T20:52:46.477398Z",
     "shell.execute_reply": "2024-11-23T20:52:46.476320Z"
    },
    "papermill": {
     "duration": 2.859971,
     "end_time": "2024-11-23T20:52:46.479965",
     "exception": false,
     "start_time": "2024-11-23T20:52:43.619994",
     "status": "completed"
    },
    "tags": []
   },
   "outputs": [],
   "source": [
    "# Kullanacağımız kütüphaneler\n",
    "\n",
    "# Pandas ve NumPy\n",
    "import pandas as pd\n",
    "import numpy as np\n",
    "\n",
    "# Görselleştirme kütüphaneleri\n",
    "import matplotlib.pyplot as plt\n",
    "import seaborn as sns\n",
    "\n"
   ]
  },
  {
   "cell_type": "code",
   "execution_count": 2,
   "id": "ca64395a",
   "metadata": {
    "execution": {
     "iopub.execute_input": "2024-11-23T20:52:46.507139Z",
     "iopub.status.busy": "2024-11-23T20:52:46.506609Z",
     "iopub.status.idle": "2024-11-23T20:52:47.816766Z",
     "shell.execute_reply": "2024-11-23T20:52:47.815636Z"
    },
    "papermill": {
     "duration": 1.326075,
     "end_time": "2024-11-23T20:52:47.818928",
     "exception": false,
     "start_time": "2024-11-23T20:52:46.492853",
     "status": "completed"
    },
    "tags": []
   },
   "outputs": [
    {
     "data": {
      "text/html": [
       "<div>\n",
       "<style scoped>\n",
       "    .dataframe tbody tr th:only-of-type {\n",
       "        vertical-align: middle;\n",
       "    }\n",
       "\n",
       "    .dataframe tbody tr th {\n",
       "        vertical-align: top;\n",
       "    }\n",
       "\n",
       "    .dataframe thead th {\n",
       "        text-align: right;\n",
       "    }\n",
       "</style>\n",
       "<table border=\"1\" class=\"dataframe\">\n",
       "  <thead>\n",
       "    <tr style=\"text-align: right;\">\n",
       "      <th></th>\n",
       "      <th>InvoiceNo</th>\n",
       "      <th>StockCode</th>\n",
       "      <th>Description</th>\n",
       "      <th>Quantity</th>\n",
       "      <th>InvoiceDate</th>\n",
       "      <th>UnitPrice</th>\n",
       "      <th>CustomerID</th>\n",
       "      <th>Country</th>\n",
       "    </tr>\n",
       "  </thead>\n",
       "  <tbody>\n",
       "    <tr>\n",
       "      <th>0</th>\n",
       "      <td>536365</td>\n",
       "      <td>85123A</td>\n",
       "      <td>WHITE HANGING HEART T-LIGHT HOLDER</td>\n",
       "      <td>6</td>\n",
       "      <td>12/1/2010 8:26</td>\n",
       "      <td>2.55</td>\n",
       "      <td>17850.0</td>\n",
       "      <td>United Kingdom</td>\n",
       "    </tr>\n",
       "    <tr>\n",
       "      <th>1</th>\n",
       "      <td>536365</td>\n",
       "      <td>71053</td>\n",
       "      <td>WHITE METAL LANTERN</td>\n",
       "      <td>6</td>\n",
       "      <td>12/1/2010 8:26</td>\n",
       "      <td>3.39</td>\n",
       "      <td>17850.0</td>\n",
       "      <td>United Kingdom</td>\n",
       "    </tr>\n",
       "    <tr>\n",
       "      <th>2</th>\n",
       "      <td>536365</td>\n",
       "      <td>84406B</td>\n",
       "      <td>CREAM CUPID HEARTS COAT HANGER</td>\n",
       "      <td>8</td>\n",
       "      <td>12/1/2010 8:26</td>\n",
       "      <td>2.75</td>\n",
       "      <td>17850.0</td>\n",
       "      <td>United Kingdom</td>\n",
       "    </tr>\n",
       "    <tr>\n",
       "      <th>3</th>\n",
       "      <td>536365</td>\n",
       "      <td>84029G</td>\n",
       "      <td>KNITTED UNION FLAG HOT WATER BOTTLE</td>\n",
       "      <td>6</td>\n",
       "      <td>12/1/2010 8:26</td>\n",
       "      <td>3.39</td>\n",
       "      <td>17850.0</td>\n",
       "      <td>United Kingdom</td>\n",
       "    </tr>\n",
       "    <tr>\n",
       "      <th>4</th>\n",
       "      <td>536365</td>\n",
       "      <td>84029E</td>\n",
       "      <td>RED WOOLLY HOTTIE WHITE HEART.</td>\n",
       "      <td>6</td>\n",
       "      <td>12/1/2010 8:26</td>\n",
       "      <td>3.39</td>\n",
       "      <td>17850.0</td>\n",
       "      <td>United Kingdom</td>\n",
       "    </tr>\n",
       "  </tbody>\n",
       "</table>\n",
       "</div>"
      ],
      "text/plain": [
       "  InvoiceNo StockCode                          Description  Quantity  \\\n",
       "0    536365    85123A   WHITE HANGING HEART T-LIGHT HOLDER         6   \n",
       "1    536365     71053                  WHITE METAL LANTERN         6   \n",
       "2    536365    84406B       CREAM CUPID HEARTS COAT HANGER         8   \n",
       "3    536365    84029G  KNITTED UNION FLAG HOT WATER BOTTLE         6   \n",
       "4    536365    84029E       RED WOOLLY HOTTIE WHITE HEART.         6   \n",
       "\n",
       "      InvoiceDate  UnitPrice  CustomerID         Country  \n",
       "0  12/1/2010 8:26       2.55     17850.0  United Kingdom  \n",
       "1  12/1/2010 8:26       3.39     17850.0  United Kingdom  \n",
       "2  12/1/2010 8:26       2.75     17850.0  United Kingdom  \n",
       "3  12/1/2010 8:26       3.39     17850.0  United Kingdom  \n",
       "4  12/1/2010 8:26       3.39     17850.0  United Kingdom  "
      ]
     },
     "execution_count": 2,
     "metadata": {},
     "output_type": "execute_result"
    }
   ],
   "source": [
    "df = pd.read_csv(\"../input/data.csv\", encoding=\"ISO-8859-1\")\n",
    "df.head()\n",
    "\n",
    "\n",
    "\n",
    "  \n",
    "\n"
   ]
  },
  {
   "cell_type": "code",
   "execution_count": 3,
   "id": "e93a5329",
   "metadata": {
    "execution": {
     "iopub.execute_input": "2024-11-23T20:52:47.846247Z",
     "iopub.status.busy": "2024-11-23T20:52:47.845892Z",
     "iopub.status.idle": "2024-11-23T20:52:49.827723Z",
     "shell.execute_reply": "2024-11-23T20:52:49.826408Z"
    },
    "papermill": {
     "duration": 1.998354,
     "end_time": "2024-11-23T20:52:49.830159",
     "exception": false,
     "start_time": "2024-11-23T20:52:47.831805",
     "status": "completed"
    },
    "tags": []
   },
   "outputs": [],
   "source": [
    "# Veri setinde rasgele eksik veriler oluşturma\n",
    "\n",
    "import random\n",
    "\n",
    "def add_random_missing_values(dataframe: pd.DataFrame,\n",
    "                              missing_rate: float = 0.05,\n",
    "                              seed: random = 42) -> pd.DataFrame:\n",
    "    \"\"\"Turns random values to NaN in a DataFrame.\n",
    "    \n",
    "    To use this function, you need to import pandas, numpy and random libraries.\n",
    "\n",
    "    Args:\n",
    "        dataframe (pd.DataFrame): DataFrame to be processed.\n",
    "        missing_rate (float): Percentage of missing value rate in float format. Defaults 0.05\n",
    "\n",
    "    \n",
    "    \"\"\"\n",
    "    # Get copy of dataframe\n",
    "    df_missing = dataframe.copy()\n",
    "\n",
    "    # Obtain size of dataframe and number total number of missing values\n",
    "    df_size = dataframe.size\n",
    "    num_missing = int(df_size * missing_rate)\n",
    "    \n",
    "    # Set seed\n",
    "    if seed:\n",
    "        random.seed(seed)\n",
    "\n",
    "    # Get random row and column indexes to turn them NaN\n",
    "    for _ in range(num_missing):\n",
    "        row_idx = random.randint(0, dataframe.shape[0] - 1)\n",
    "        col_idx = random.randint(0, dataframe.shape[1] - 1)\n",
    "\n",
    "        df_missing.iat[row_idx, col_idx] = np.nan\n",
    "        \n",
    "    return df_missing\n",
    "\n",
    "df = add_random_missing_values(dataframe = df,\n",
    "                               missing_rate = 0.03)"
   ]
  },
  {
   "cell_type": "markdown",
   "id": "4be19849",
   "metadata": {
    "papermill": {
     "duration": 0.012344,
     "end_time": "2024-11-23T20:52:49.855352",
     "exception": false,
     "start_time": "2024-11-23T20:52:49.843008",
     "status": "completed"
    },
    "tags": []
   },
   "source": [
    "**1. Veriye İlk Bakış**"
   ]
  },
  {
   "cell_type": "code",
   "execution_count": 4,
   "id": "9b6b9f6e",
   "metadata": {
    "execution": {
     "iopub.execute_input": "2024-11-23T20:52:49.885722Z",
     "iopub.status.busy": "2024-11-23T20:52:49.885315Z",
     "iopub.status.idle": "2024-11-23T20:52:49.920188Z",
     "shell.execute_reply": "2024-11-23T20:52:49.918998Z"
    },
    "papermill": {
     "duration": 0.052426,
     "end_time": "2024-11-23T20:52:49.923352",
     "exception": false,
     "start_time": "2024-11-23T20:52:49.870926",
     "status": "completed"
    },
    "tags": []
   },
   "outputs": [
    {
     "name": "stdout",
     "output_type": "stream",
     "text": [
      "       InvoiceNo StockCode                    Description  Quantity  \\\n",
      "70059        NaN     20685          DOORMAT RED RETROSPOT       1.0   \n",
      "269875    560504     22721  SET OF 3 CAKE TINS SKETCHBOOK       6.0   \n",
      "244256    558475     23287        RED VINTAGE SPOT BEAKER       1.0   \n",
      "2748      536592     22553         PLASTERS IN TIN SKULLS       1.0   \n",
      "\n",
      "            InvoiceDate  UnitPrice  CustomerID         Country  \n",
      "70059   1/25/2011 10:45       7.46         NaN  United Kingdom  \n",
      "269875  7/19/2011 11:47       4.95     13081.0             NaN  \n",
      "244256  6/29/2011 15:58       1.63         NaN  United Kingdom  \n",
      "2748    12/1/2010 17:06       3.36         NaN  United Kingdom  \n"
     ]
    }
   ],
   "source": [
    "#Örnek Veri Görüntüleme\n",
    "#Rastgele satırları kontrol ederek veri yapısını inceleyebiliriz\n",
    "\n",
    "print(df.sample(4))\n",
    "\n"
   ]
  },
  {
   "cell_type": "markdown",
   "id": "6e51a900",
   "metadata": {
    "papermill": {
     "duration": 0.012482,
     "end_time": "2024-11-23T20:52:49.949644",
     "exception": false,
     "start_time": "2024-11-23T20:52:49.937162",
     "status": "completed"
    },
    "tags": []
   },
   "source": [
    "info() metodu kullanılarak veri setinin yapısal bilgilerine erişilebilir. Veri türlerinin doğruluğunu ve kayıt sayılarını dikkatlice kontrol etmek önemlidir.z."
   ]
  },
  {
   "cell_type": "code",
   "execution_count": 5,
   "id": "97195373",
   "metadata": {
    "execution": {
     "iopub.execute_input": "2024-11-23T20:52:49.977484Z",
     "iopub.status.busy": "2024-11-23T20:52:49.976377Z",
     "iopub.status.idle": "2024-11-23T20:52:50.150486Z",
     "shell.execute_reply": "2024-11-23T20:52:50.148759Z"
    },
    "papermill": {
     "duration": 0.191373,
     "end_time": "2024-11-23T20:52:50.153853",
     "exception": false,
     "start_time": "2024-11-23T20:52:49.962480",
     "status": "completed"
    },
    "tags": []
   },
   "outputs": [
    {
     "name": "stdout",
     "output_type": "stream",
     "text": [
      "<class 'pandas.core.frame.DataFrame'>\n",
      "RangeIndex: 541909 entries, 0 to 541908\n",
      "Data columns (total 8 columns):\n",
      " #   Column       Non-Null Count   Dtype  \n",
      "---  ------       --------------   -----  \n",
      " 0   InvoiceNo    526028 non-null  object \n",
      " 1   StockCode    525892 non-null  object \n",
      " 2   Description  524325 non-null  object \n",
      " 3   Quantity     526113 non-null  float64\n",
      " 4   InvoiceDate  525810 non-null  object \n",
      " 5   UnitPrice    526019 non-null  float64\n",
      " 6   CustomerID   394717 non-null  float64\n",
      " 7   Country      525826 non-null  object \n",
      "dtypes: float64(3), object(5)\n",
      "memory usage: 33.1+ MB\n"
     ]
    }
   ],
   "source": [
    "\n",
    "df.info()"
   ]
  },
  {
   "cell_type": "markdown",
   "id": "304a644f",
   "metadata": {
    "papermill": {
     "duration": 0.022029,
     "end_time": "2024-11-23T20:52:50.195699",
     "exception": false,
     "start_time": "2024-11-23T20:52:50.173670",
     "status": "completed"
    },
    "tags": []
   },
   "source": [
    "dtypes() fonksiyonu sayesinde veri tiplerini ve kolon isimlerini görebiliriz."
   ]
  },
  {
   "cell_type": "code",
   "execution_count": 6,
   "id": "6cc7a8e3",
   "metadata": {
    "execution": {
     "iopub.execute_input": "2024-11-23T20:52:50.236962Z",
     "iopub.status.busy": "2024-11-23T20:52:50.236564Z",
     "iopub.status.idle": "2024-11-23T20:52:50.244962Z",
     "shell.execute_reply": "2024-11-23T20:52:50.243890Z"
    },
    "papermill": {
     "duration": 0.032588,
     "end_time": "2024-11-23T20:52:50.247002",
     "exception": false,
     "start_time": "2024-11-23T20:52:50.214414",
     "status": "completed"
    },
    "tags": []
   },
   "outputs": [
    {
     "data": {
      "text/plain": [
       "InvoiceNo       object\n",
       "StockCode       object\n",
       "Description     object\n",
       "Quantity       float64\n",
       "InvoiceDate     object\n",
       "UnitPrice      float64\n",
       "CustomerID     float64\n",
       "Country         object\n",
       "dtype: object"
      ]
     },
     "execution_count": 6,
     "metadata": {},
     "output_type": "execute_result"
    }
   ],
   "source": [
    "df.dtypes"
   ]
  },
  {
   "cell_type": "code",
   "execution_count": 7,
   "id": "3a68ad35",
   "metadata": {
    "execution": {
     "iopub.execute_input": "2024-11-23T20:52:50.274700Z",
     "iopub.status.busy": "2024-11-23T20:52:50.274272Z",
     "iopub.status.idle": "2024-11-23T20:52:50.424110Z",
     "shell.execute_reply": "2024-11-23T20:52:50.422844Z"
    },
    "papermill": {
     "duration": 0.167925,
     "end_time": "2024-11-23T20:52:50.427916",
     "exception": false,
     "start_time": "2024-11-23T20:52:50.259991",
     "status": "completed"
    },
    "tags": []
   },
   "outputs": [
    {
     "data": {
      "text/plain": [
       "InvoiceNo       15881\n",
       "StockCode       16017\n",
       "Description     17584\n",
       "Quantity        15796\n",
       "InvoiceDate     16099\n",
       "UnitPrice       15890\n",
       "CustomerID     147192\n",
       "Country         16083\n",
       "dtype: int64"
      ]
     },
     "execution_count": 7,
     "metadata": {},
     "output_type": "execute_result"
    }
   ],
   "source": [
    "# Eksik değer sayılarının sütun bazında saptanması isnull().sum() ile sağlanabilir.\n",
    "\n",
    "df.isnull().sum()"
   ]
  },
  {
   "cell_type": "markdown",
   "id": "09d228dc",
   "metadata": {
    "papermill": {
     "duration": 0.014076,
     "end_time": "2024-11-23T20:52:50.462334",
     "exception": false,
     "start_time": "2024-11-23T20:52:50.448258",
     "status": "completed"
    },
    "tags": []
   },
   "source": [
    "nunique() fonksiyonu ile eşsiz verilerin sayısı saptanır."
   ]
  },
  {
   "cell_type": "code",
   "execution_count": 8,
   "id": "5fb80052",
   "metadata": {
    "execution": {
     "iopub.execute_input": "2024-11-23T20:52:50.491845Z",
     "iopub.status.busy": "2024-11-23T20:52:50.491422Z",
     "iopub.status.idle": "2024-11-23T20:52:50.635182Z",
     "shell.execute_reply": "2024-11-23T20:52:50.634104Z"
    },
    "papermill": {
     "duration": 0.160957,
     "end_time": "2024-11-23T20:52:50.637587",
     "exception": false,
     "start_time": "2024-11-23T20:52:50.476630",
     "status": "completed"
    },
    "tags": []
   },
   "outputs": [
    {
     "data": {
      "text/plain": [
       "InvoiceNo      25731\n",
       "StockCode       4064\n",
       "Description     4217\n",
       "Quantity         710\n",
       "InvoiceDate    23144\n",
       "UnitPrice       1594\n",
       "CustomerID      4371\n",
       "Country           38\n",
       "dtype: int64"
      ]
     },
     "execution_count": 8,
     "metadata": {},
     "output_type": "execute_result"
    }
   ],
   "source": [
    "\n",
    "df.nunique()"
   ]
  },
  {
   "cell_type": "markdown",
   "id": "e7d28c61",
   "metadata": {
    "papermill": {
     "duration": 0.012832,
     "end_time": "2024-11-23T20:52:50.663741",
     "exception": false,
     "start_time": "2024-11-23T20:52:50.650909",
     "status": "completed"
    },
    "tags": []
   },
   "source": [
    "\"object\" türündeki veriler kimi zaman kategorik değişken olabilmektedir. Bu sebeple doğru veri türünü sağlamak veri analizi için önemlidir."
   ]
  },
  {
   "cell_type": "code",
   "execution_count": 9,
   "id": "308a1c0c",
   "metadata": {
    "execution": {
     "iopub.execute_input": "2024-11-23T20:52:50.693380Z",
     "iopub.status.busy": "2024-11-23T20:52:50.692997Z",
     "iopub.status.idle": "2024-11-23T20:52:50.783587Z",
     "shell.execute_reply": "2024-11-23T20:52:50.782320Z"
    },
    "papermill": {
     "duration": 0.108213,
     "end_time": "2024-11-23T20:52:50.786096",
     "exception": false,
     "start_time": "2024-11-23T20:52:50.677883",
     "status": "completed"
    },
    "tags": []
   },
   "outputs": [
    {
     "data": {
      "text/plain": [
       "InvoiceNo        object\n",
       "StockCode        object\n",
       "Description      object\n",
       "Quantity        float64\n",
       "InvoiceDate      object\n",
       "UnitPrice       float64\n",
       "CustomerID       object\n",
       "Country        category\n",
       "dtype: object"
      ]
     },
     "execution_count": 9,
     "metadata": {},
     "output_type": "execute_result"
    }
   ],
   "source": [
    "#Country değişkeni veri setinde object olarak verilmişti fakat aslında kategorik değişkendir.\n",
    "#Aşağıdaki kod satırında değişken türü değiştirilmiştir.\n",
    "\n",
    "df['Country'] = df['Country'].astype('category')\n",
    "\n",
    "df['CustomerID'] = df['CustomerID'].astype('object')\n",
    "\n",
    "df.dtypes"
   ]
  },
  {
   "cell_type": "markdown",
   "id": "26ceaf62",
   "metadata": {
    "papermill": {
     "duration": 0.015441,
     "end_time": "2024-11-23T20:52:50.815930",
     "exception": false,
     "start_time": "2024-11-23T20:52:50.800489",
     "status": "completed"
    },
    "tags": []
   },
   "source": [
    "\n",
    "Veri setinin temel istatistiksel özelliklerini incelemek için `describe()` fonksiyonundan yararlanıyoruz. \r\n",
    "\r\n",
    "Bu fonksiyon, eksik değerleri dikkate almaz ve varsayılan ayarlarıyla yalnızca sayısal değişkenler için özet bilgiler suna\n",
    "\n",
    ".T eklentisi elde edeceğimiz çıktıyı transpose eder.r."
   ]
  },
  {
   "cell_type": "code",
   "execution_count": 10,
   "id": "f3712b0a",
   "metadata": {
    "execution": {
     "iopub.execute_input": "2024-11-23T20:52:50.845678Z",
     "iopub.status.busy": "2024-11-23T20:52:50.845248Z",
     "iopub.status.idle": "2024-11-23T20:52:50.936993Z",
     "shell.execute_reply": "2024-11-23T20:52:50.935742Z"
    },
    "papermill": {
     "duration": 0.110162,
     "end_time": "2024-11-23T20:52:50.939412",
     "exception": false,
     "start_time": "2024-11-23T20:52:50.829250",
     "status": "completed"
    },
    "tags": []
   },
   "outputs": [
    {
     "data": {
      "text/html": [
       "<div>\n",
       "<style scoped>\n",
       "    .dataframe tbody tr th:only-of-type {\n",
       "        vertical-align: middle;\n",
       "    }\n",
       "\n",
       "    .dataframe tbody tr th {\n",
       "        vertical-align: top;\n",
       "    }\n",
       "\n",
       "    .dataframe thead th {\n",
       "        text-align: right;\n",
       "    }\n",
       "</style>\n",
       "<table border=\"1\" class=\"dataframe\">\n",
       "  <thead>\n",
       "    <tr style=\"text-align: right;\">\n",
       "      <th></th>\n",
       "      <th>count</th>\n",
       "      <th>mean</th>\n",
       "      <th>std</th>\n",
       "      <th>min</th>\n",
       "      <th>25%</th>\n",
       "      <th>50%</th>\n",
       "      <th>75%</th>\n",
       "      <th>max</th>\n",
       "    </tr>\n",
       "  </thead>\n",
       "  <tbody>\n",
       "    <tr>\n",
       "      <th>Quantity</th>\n",
       "      <td>526113.0</td>\n",
       "      <td>9.548825</td>\n",
       "      <td>221.218522</td>\n",
       "      <td>-80995.00</td>\n",
       "      <td>1.00</td>\n",
       "      <td>3.00</td>\n",
       "      <td>10.00</td>\n",
       "      <td>80995.0</td>\n",
       "    </tr>\n",
       "    <tr>\n",
       "      <th>UnitPrice</th>\n",
       "      <td>526019.0</td>\n",
       "      <td>4.621448</td>\n",
       "      <td>97.707221</td>\n",
       "      <td>-11062.06</td>\n",
       "      <td>1.25</td>\n",
       "      <td>2.08</td>\n",
       "      <td>4.13</td>\n",
       "      <td>38970.0</td>\n",
       "    </tr>\n",
       "  </tbody>\n",
       "</table>\n",
       "</div>"
      ],
      "text/plain": [
       "              count      mean         std       min   25%   50%    75%  \\\n",
       "Quantity   526113.0  9.548825  221.218522 -80995.00  1.00  3.00  10.00   \n",
       "UnitPrice  526019.0  4.621448   97.707221 -11062.06  1.25  2.08   4.13   \n",
       "\n",
       "               max  \n",
       "Quantity   80995.0  \n",
       "UnitPrice  38970.0  "
      ]
     },
     "execution_count": 10,
     "metadata": {},
     "output_type": "execute_result"
    }
   ],
   "source": [
    "df.describe().T "
   ]
  },
  {
   "cell_type": "markdown",
   "id": "5e98f96e",
   "metadata": {
    "papermill": {
     "duration": 0.01321,
     "end_time": "2024-11-23T20:52:50.966747",
     "exception": false,
     "start_time": "2024-11-23T20:52:50.953537",
     "status": "completed"
    },
    "tags": []
   },
   "source": [
    "**2. Eksik Verilerin Analizi**"
   ]
  },
  {
   "cell_type": "markdown",
   "id": "a9946a0f",
   "metadata": {
    "papermill": {
     "duration": 0.012961,
     "end_time": "2024-11-23T20:52:50.993150",
     "exception": false,
     "start_time": "2024-11-23T20:52:50.980189",
     "status": "completed"
    },
    "tags": []
   },
   "source": [
    "\n",
    "Eksik veri analizi, bir veri setinde eksik veya boş değerlerin tespit edilmesini, bu eksikliklerin nedenlerini anlamayı ve veri analizi sürecine etkilerini değerlendirmeyi amaçlayan bir işlemdir. Python'da bu analiz genellikle **`isnull()`**, **`notnull()`**, ve **`sum()`** gibi fonksiyonlar kullanılarak yapılır. Eksik veriler tespit edildikten sonra, bunları temizlemek, doldurmak veya analizden hariç tutmak için uygun stratejiler uygulanır.\n"
   ]
  },
  {
   "cell_type": "code",
   "execution_count": 11,
   "id": "28c8cffb",
   "metadata": {
    "execution": {
     "iopub.execute_input": "2024-11-23T20:52:51.021586Z",
     "iopub.status.busy": "2024-11-23T20:52:51.021188Z",
     "iopub.status.idle": "2024-11-23T20:52:51.147437Z",
     "shell.execute_reply": "2024-11-23T20:52:51.146086Z"
    },
    "papermill": {
     "duration": 0.14346,
     "end_time": "2024-11-23T20:52:51.150044",
     "exception": false,
     "start_time": "2024-11-23T20:52:51.006584",
     "status": "completed"
    },
    "tags": []
   },
   "outputs": [
    {
     "data": {
      "text/plain": [
       "InvoiceNo       15881\n",
       "StockCode       16017\n",
       "Description     17584\n",
       "Quantity        15796\n",
       "InvoiceDate     16099\n",
       "UnitPrice       15890\n",
       "CustomerID     147192\n",
       "Country         16083\n",
       "dtype: int64"
      ]
     },
     "execution_count": 11,
     "metadata": {},
     "output_type": "execute_result"
    }
   ],
   "source": [
    "df.isna().sum()"
   ]
  },
  {
   "cell_type": "markdown",
   "id": "f2cbc07d",
   "metadata": {
    "papermill": {
     "duration": 0.013289,
     "end_time": "2024-11-23T20:52:51.177073",
     "exception": false,
     "start_time": "2024-11-23T20:52:51.163784",
     "status": "completed"
    },
    "tags": []
   },
   "source": [
    "Veri setindeki tüm eksik verilerin sayısı:"
   ]
  },
  {
   "cell_type": "code",
   "execution_count": 12,
   "id": "d7c457c4",
   "metadata": {
    "execution": {
     "iopub.execute_input": "2024-11-23T20:52:51.207565Z",
     "iopub.status.busy": "2024-11-23T20:52:51.207137Z",
     "iopub.status.idle": "2024-11-23T20:52:51.330867Z",
     "shell.execute_reply": "2024-11-23T20:52:51.329799Z"
    },
    "papermill": {
     "duration": 0.141599,
     "end_time": "2024-11-23T20:52:51.333033",
     "exception": false,
     "start_time": "2024-11-23T20:52:51.191434",
     "status": "completed"
    },
    "tags": []
   },
   "outputs": [
    {
     "data": {
      "text/plain": [
       "260542"
      ]
     },
     "execution_count": 12,
     "metadata": {},
     "output_type": "execute_result"
    }
   ],
   "source": [
    "df.isna().sum().sum()"
   ]
  },
  {
   "cell_type": "markdown",
   "id": "c201007c",
   "metadata": {
    "papermill": {
     "duration": 0.013488,
     "end_time": "2024-11-23T20:52:51.360361",
     "exception": false,
     "start_time": "2024-11-23T20:52:51.346873",
     "status": "completed"
    },
    "tags": []
   },
   "source": [
    "Veri setindei eksik olmayan veri sayısı:"
   ]
  },
  {
   "cell_type": "code",
   "execution_count": 13,
   "id": "d3bcb219",
   "metadata": {
    "execution": {
     "iopub.execute_input": "2024-11-23T20:52:51.389476Z",
     "iopub.status.busy": "2024-11-23T20:52:51.389108Z",
     "iopub.status.idle": "2024-11-23T20:52:51.513527Z",
     "shell.execute_reply": "2024-11-23T20:52:51.512305Z"
    },
    "papermill": {
     "duration": 0.141658,
     "end_time": "2024-11-23T20:52:51.515889",
     "exception": false,
     "start_time": "2024-11-23T20:52:51.374231",
     "status": "completed"
    },
    "tags": []
   },
   "outputs": [
    {
     "data": {
      "text/plain": [
       "InvoiceNo      526028\n",
       "StockCode      525892\n",
       "Description    524325\n",
       "Quantity       526113\n",
       "InvoiceDate    525810\n",
       "UnitPrice      526019\n",
       "CustomerID     394717\n",
       "Country        525826\n",
       "dtype: int64"
      ]
     },
     "execution_count": 13,
     "metadata": {},
     "output_type": "execute_result"
    }
   ],
   "source": [
    "df.notnull().sum()"
   ]
  },
  {
   "cell_type": "markdown",
   "id": "2d2684f2",
   "metadata": {
    "papermill": {
     "duration": 0.01342,
     "end_time": "2024-11-23T20:52:51.543458",
     "exception": false,
     "start_time": "2024-11-23T20:52:51.530038",
     "status": "completed"
    },
    "tags": []
   },
   "source": [
    "-Sabit Değerlerle Doldurma: Eksik değerler belirli bir sabit değerle (örneğin 0) doldurulur."
   ]
  },
  {
   "cell_type": "code",
   "execution_count": 14,
   "id": "a2d3bd43",
   "metadata": {
    "execution": {
     "iopub.execute_input": "2024-11-23T20:52:51.573155Z",
     "iopub.status.busy": "2024-11-23T20:52:51.572730Z",
     "iopub.status.idle": "2024-11-23T20:52:51.584913Z",
     "shell.execute_reply": "2024-11-23T20:52:51.583714Z"
    },
    "papermill": {
     "duration": 0.029802,
     "end_time": "2024-11-23T20:52:51.587347",
     "exception": false,
     "start_time": "2024-11-23T20:52:51.557545",
     "status": "completed"
    },
    "tags": []
   },
   "outputs": [
    {
     "data": {
      "text/plain": [
       "0          6.0\n",
       "1          6.0\n",
       "2          8.0\n",
       "3          6.0\n",
       "4          6.0\n",
       "          ... \n",
       "541904    12.0\n",
       "541905     6.0\n",
       "541906     4.0\n",
       "541907     4.0\n",
       "541908     3.0\n",
       "Name: Quantity, Length: 541909, dtype: float64"
      ]
     },
     "execution_count": 14,
     "metadata": {},
     "output_type": "execute_result"
    }
   ],
   "source": [
    "df['Quantity'].fillna(0) #inplace=True ile değişiklikler veri setine işlenir.\n"
   ]
  },
  {
   "cell_type": "markdown",
   "id": "54646fb8",
   "metadata": {
    "papermill": {
     "duration": 0.013517,
     "end_time": "2024-11-23T20:52:51.615085",
     "exception": false,
     "start_time": "2024-11-23T20:52:51.601568",
     "status": "completed"
    },
    "tags": []
   },
   "source": [
    "-Ortalama/Medyan ile Doldurma: Eksik değerler, ilgili kolonun ortalaması veya medyanı ile doldurulur."
   ]
  },
  {
   "cell_type": "code",
   "execution_count": 15,
   "id": "28570905",
   "metadata": {
    "execution": {
     "iopub.execute_input": "2024-11-23T20:52:51.646061Z",
     "iopub.status.busy": "2024-11-23T20:52:51.645611Z",
     "iopub.status.idle": "2024-11-23T20:52:51.659831Z",
     "shell.execute_reply": "2024-11-23T20:52:51.658677Z"
    },
    "papermill": {
     "duration": 0.03259,
     "end_time": "2024-11-23T20:52:51.662112",
     "exception": false,
     "start_time": "2024-11-23T20:52:51.629522",
     "status": "completed"
    },
    "tags": []
   },
   "outputs": [
    {
     "data": {
      "text/plain": [
       "0          6.0\n",
       "1          6.0\n",
       "2          8.0\n",
       "3          6.0\n",
       "4          6.0\n",
       "          ... \n",
       "541904    12.0\n",
       "541905     6.0\n",
       "541906     4.0\n",
       "541907     4.0\n",
       "541908     3.0\n",
       "Name: Quantity, Length: 541909, dtype: float64"
      ]
     },
     "execution_count": 15,
     "metadata": {},
     "output_type": "execute_result"
    }
   ],
   "source": [
    "df['Quantity'].fillna(df['Quantity'].mean())\n"
   ]
  },
  {
   "cell_type": "markdown",
   "id": "2b0565e2",
   "metadata": {
    "papermill": {
     "duration": 0.013492,
     "end_time": "2024-11-23T20:52:51.689481",
     "exception": false,
     "start_time": "2024-11-23T20:52:51.675989",
     "status": "completed"
    },
    "tags": []
   },
   "source": [
    "-Eksik verileri en çok tekrar eden değerlerle doldurma"
   ]
  },
  {
   "cell_type": "code",
   "execution_count": 16,
   "id": "54b46788",
   "metadata": {
    "execution": {
     "iopub.execute_input": "2024-11-23T20:52:51.718693Z",
     "iopub.status.busy": "2024-11-23T20:52:51.718305Z",
     "iopub.status.idle": "2024-11-23T20:52:51.739042Z",
     "shell.execute_reply": "2024-11-23T20:52:51.737930Z"
    },
    "papermill": {
     "duration": 0.038329,
     "end_time": "2024-11-23T20:52:51.741567",
     "exception": false,
     "start_time": "2024-11-23T20:52:51.703238",
     "status": "completed"
    },
    "tags": []
   },
   "outputs": [
    {
     "data": {
      "text/plain": [
       "0          6.0\n",
       "1          6.0\n",
       "2          8.0\n",
       "3          6.0\n",
       "4          6.0\n",
       "          ... \n",
       "541904    12.0\n",
       "541905     6.0\n",
       "541906     4.0\n",
       "541907     4.0\n",
       "541908     3.0\n",
       "Name: Quantity, Length: 541909, dtype: float64"
      ]
     },
     "execution_count": 16,
     "metadata": {},
     "output_type": "execute_result"
    }
   ],
   "source": [
    "df['Quantity'].fillna(df['Quantity'].mode()[0])\n"
   ]
  },
  {
   "cell_type": "markdown",
   "id": "61bd10ac",
   "metadata": {
    "papermill": {
     "duration": 0.014661,
     "end_time": "2024-11-23T20:52:51.771716",
     "exception": false,
     "start_time": "2024-11-23T20:52:51.757055",
     "status": "completed"
    },
    "tags": []
   },
   "source": [
    "-Eksik Verileri Silme\n",
    "\n",
    "-Eğer eksik veriler az bir oranı kapsıyorsa, bu satır veya sütunlar tamamen kaldırılabilir."
   ]
  },
  {
   "cell_type": "code",
   "execution_count": 17,
   "id": "ff8b30b2",
   "metadata": {
    "execution": {
     "iopub.execute_input": "2024-11-23T20:52:51.801898Z",
     "iopub.status.busy": "2024-11-23T20:52:51.801463Z",
     "iopub.status.idle": "2024-11-23T20:52:52.073052Z",
     "shell.execute_reply": "2024-11-23T20:52:52.071931Z"
    },
    "papermill": {
     "duration": 0.289398,
     "end_time": "2024-11-23T20:52:52.075410",
     "exception": false,
     "start_time": "2024-11-23T20:52:51.786012",
     "status": "completed"
    },
    "tags": []
   },
   "outputs": [
    {
     "data": {
      "text/html": [
       "<div>\n",
       "<style scoped>\n",
       "    .dataframe tbody tr th:only-of-type {\n",
       "        vertical-align: middle;\n",
       "    }\n",
       "\n",
       "    .dataframe tbody tr th {\n",
       "        vertical-align: top;\n",
       "    }\n",
       "\n",
       "    .dataframe thead th {\n",
       "        text-align: right;\n",
       "    }\n",
       "</style>\n",
       "<table border=\"1\" class=\"dataframe\">\n",
       "  <thead>\n",
       "    <tr style=\"text-align: right;\">\n",
       "      <th></th>\n",
       "    </tr>\n",
       "  </thead>\n",
       "  <tbody>\n",
       "    <tr>\n",
       "      <th>0</th>\n",
       "    </tr>\n",
       "    <tr>\n",
       "      <th>1</th>\n",
       "    </tr>\n",
       "    <tr>\n",
       "      <th>2</th>\n",
       "    </tr>\n",
       "    <tr>\n",
       "      <th>3</th>\n",
       "    </tr>\n",
       "    <tr>\n",
       "      <th>4</th>\n",
       "    </tr>\n",
       "    <tr>\n",
       "      <th>...</th>\n",
       "    </tr>\n",
       "    <tr>\n",
       "      <th>541904</th>\n",
       "    </tr>\n",
       "    <tr>\n",
       "      <th>541905</th>\n",
       "    </tr>\n",
       "    <tr>\n",
       "      <th>541906</th>\n",
       "    </tr>\n",
       "    <tr>\n",
       "      <th>541907</th>\n",
       "    </tr>\n",
       "    <tr>\n",
       "      <th>541908</th>\n",
       "    </tr>\n",
       "  </tbody>\n",
       "</table>\n",
       "<p>541909 rows × 0 columns</p>\n",
       "</div>"
      ],
      "text/plain": [
       "Empty DataFrame\n",
       "Columns: []\n",
       "Index: [0, 1, 2, 3, 4, 5, 6, 7, 8, 9, 10, 11, 12, 13, 14, 15, 16, 17, 18, 19, 20, 21, 22, 23, 24, 25, 26, 27, 28, 29, 30, 31, 32, 33, 34, 35, 36, 37, 38, 39, 40, 41, 42, 43, 44, 45, 46, 47, 48, 49, 50, 51, 52, 53, 54, 55, 56, 57, 58, 59, 60, 61, 62, 63, 64, 65, 66, 67, 68, 69, 70, 71, 72, 73, 74, 75, 76, 77, 78, 79, 80, 81, 82, 83, 84, 85, 86, 87, 88, 89, 90, 91, 92, 93, 94, 95, 96, 97, 98, 99, ...]\n",
       "\n",
       "[541909 rows x 0 columns]"
      ]
     },
     "execution_count": 17,
     "metadata": {},
     "output_type": "execute_result"
    }
   ],
   "source": [
    "df.dropna(axis=0) #eksik verileri içeren satırları silme\n",
    "\n",
    "df.dropna(axis=1) #eksik verileri içeren sütunları silme\n"
   ]
  },
  {
   "cell_type": "markdown",
   "id": "6c767669",
   "metadata": {
    "papermill": {
     "duration": 0.014518,
     "end_time": "2024-11-23T20:52:52.105454",
     "exception": false,
     "start_time": "2024-11-23T20:52:52.090936",
     "status": "completed"
    },
    "tags": []
   },
   "source": [
    "-\"missingno\", eksik verileri analiz etmek ve görselleştirmek için kullanılan bir kütüphanedir.\n",
    "\n",
    "-Daha hızlı ve görsel bir şekilde eksik veri sorunlarını anlamanızı sağlar"
   ]
  },
  {
   "cell_type": "code",
   "execution_count": 18,
   "id": "8cfade4e",
   "metadata": {
    "execution": {
     "iopub.execute_input": "2024-11-23T20:52:52.136804Z",
     "iopub.status.busy": "2024-11-23T20:52:52.135764Z",
     "iopub.status.idle": "2024-11-23T20:52:53.256485Z",
     "shell.execute_reply": "2024-11-23T20:52:53.254875Z"
    },
    "papermill": {
     "duration": 1.140417,
     "end_time": "2024-11-23T20:52:53.260519",
     "exception": false,
     "start_time": "2024-11-23T20:52:52.120102",
     "status": "completed"
    },
    "tags": []
   },
   "outputs": [
    {
     "data": {
      "image/png": "[encoded data removed]",
      "text/plain": [
       "<Figure size 700x400 with 3 Axes>"
      ]
     },
     "metadata": {},
     "output_type": "display_data"
    }
   ],
   "source": [
    "# missingno kütüphanesini yüklemeliyiz\n",
    "import missingno as msno\n",
    "\n",
    "msno.bar(df = df,\n",
    "         figsize = (7, 4),\n",
    "         fontsize = 8);"
   ]
  },
  {
   "cell_type": "markdown",
   "id": "6fc25663",
   "metadata": {
    "papermill": {
     "duration": 0.01444,
     "end_time": "2024-11-23T20:52:53.297679",
     "exception": false,
     "start_time": "2024-11-23T20:52:53.283239",
     "status": "completed"
    },
    "tags": []
   },
   "source": [
    "missingno kütüphanesi kullanılarak eksik veriler arasındaki ilişkileri görselleştirmek için bir ısı haritası (heatmap) oluşturabiliriz.\n",
    "\n",
    "\n",
    "-Isı haritasında, her bir hücre farklı renklerle gösterilir.\n",
    "\n",
    "-1'e Yakın: Eksik veriler arasında güçlü bir ilişki olduğunu gösterir. Örneğin, iki sütunda aynı eksik veri paterni varsa bu değer 1'e yaklaşır.\n",
    "\n",
    "-0'a Yakın: İki sütun arasında eksik veri açısından bir ilişki olmadığını gösterir."
   ]
  },
  {
   "cell_type": "code",
   "execution_count": 19,
   "id": "b163e337",
   "metadata": {
    "execution": {
     "iopub.execute_input": "2024-11-23T20:52:53.328625Z",
     "iopub.status.busy": "2024-11-23T20:52:53.328235Z",
     "iopub.status.idle": "2024-11-23T20:52:54.166695Z",
     "shell.execute_reply": "2024-11-23T20:52:54.165549Z"
    },
    "papermill": {
     "duration": 0.856955,
     "end_time": "2024-11-23T20:52:54.169198",
     "exception": false,
     "start_time": "2024-11-23T20:52:53.312243",
     "status": "completed"
    },
    "tags": []
   },
   "outputs": [
    {
     "data": {
      "image/png": "[encoded data removed]",
      "text/plain": [
       "<Figure size 1000x500 with 2 Axes>"
      ]
     },
     "metadata": {},
     "output_type": "display_data"
    }
   ],
   "source": [
    "msno.heatmap(df = df,\n",
    "             figsize = (10, 5),\n",
    "             fontsize = 9);"
   ]
  },
  {
   "cell_type": "markdown",
   "id": "5abec0fa",
   "metadata": {
    "papermill": {
     "duration": 0.015326,
     "end_time": "2024-11-23T20:52:54.200173",
     "exception": false,
     "start_time": "2024-11-23T20:52:54.184847",
     "status": "completed"
    },
    "tags": []
   },
   "source": [
    "Eksik verilerin silinmesi, veri setinin büyüklüğü, eksik verilerin oranı ve dağılımı göz önünde bulundurularak yapılmalıdır.\n",
    "\n",
    "**İyi Durumlar:**\n",
    "\n",
    "Eksik veriler küçük bir oran oluşturuyorsa.\n",
    "\n",
    "Eksik veriler rastgele (MCAR) dağılmışsa.\n",
    "\n",
    "Daha karmaşık doldurma yöntemleri kullanılamıyorsa.\n",
    "\n",
    "**Kötü Durumlar:**\n",
    "\n",
    "Eksik veriler büyük bir oran oluşturuyorsa.\n",
    "\n",
    "Eksik veriler sistematik bir şekilde dağılmışsa.\n",
    "\n",
    "Önemli değişkenlerde eksik veriler varsa.\n"
   ]
  },
  {
   "cell_type": "markdown",
   "id": "f88e00c7",
   "metadata": {
    "papermill": {
     "duration": 0.015921,
     "end_time": "2024-11-23T20:52:54.231851",
     "exception": false,
     "start_time": "2024-11-23T20:52:54.215930",
     "status": "completed"
    },
    "tags": []
   },
   "source": [
    "Veri setimizin boyutunu dikkate alarak, eksik verileri silmek daha uygun bir yaklaşım olabilir. \n"
   ]
  },
  {
   "cell_type": "code",
   "execution_count": 20,
   "id": "b4eb6ba3",
   "metadata": {
    "execution": {
     "iopub.execute_input": "2024-11-23T20:52:54.265710Z",
     "iopub.status.busy": "2024-11-23T20:52:54.265294Z",
     "iopub.status.idle": "2024-11-23T20:52:54.416018Z",
     "shell.execute_reply": "2024-11-23T20:52:54.414903Z"
    },
    "papermill": {
     "duration": 0.170375,
     "end_time": "2024-11-23T20:52:54.418693",
     "exception": false,
     "start_time": "2024-11-23T20:52:54.248318",
     "status": "completed"
    },
    "tags": []
   },
   "outputs": [
    {
     "data": {
      "text/html": [
       "<div>\n",
       "<style scoped>\n",
       "    .dataframe tbody tr th:only-of-type {\n",
       "        vertical-align: middle;\n",
       "    }\n",
       "\n",
       "    .dataframe tbody tr th {\n",
       "        vertical-align: top;\n",
       "    }\n",
       "\n",
       "    .dataframe thead th {\n",
       "        text-align: right;\n",
       "    }\n",
       "</style>\n",
       "<table border=\"1\" class=\"dataframe\">\n",
       "  <thead>\n",
       "    <tr style=\"text-align: right;\">\n",
       "      <th></th>\n",
       "      <th>InvoiceNo</th>\n",
       "      <th>StockCode</th>\n",
       "      <th>Description</th>\n",
       "      <th>Quantity</th>\n",
       "      <th>InvoiceDate</th>\n",
       "      <th>UnitPrice</th>\n",
       "      <th>CustomerID</th>\n",
       "      <th>Country</th>\n",
       "    </tr>\n",
       "  </thead>\n",
       "  <tbody>\n",
       "    <tr>\n",
       "      <th>0</th>\n",
       "      <td>536365</td>\n",
       "      <td>85123A</td>\n",
       "      <td>WHITE HANGING HEART T-LIGHT HOLDER</td>\n",
       "      <td>6.0</td>\n",
       "      <td>12/1/2010 8:26</td>\n",
       "      <td>2.55</td>\n",
       "      <td>17850.0</td>\n",
       "      <td>United Kingdom</td>\n",
       "    </tr>\n",
       "    <tr>\n",
       "      <th>1</th>\n",
       "      <td>536365</td>\n",
       "      <td>71053</td>\n",
       "      <td>WHITE METAL LANTERN</td>\n",
       "      <td>6.0</td>\n",
       "      <td>12/1/2010 8:26</td>\n",
       "      <td>3.39</td>\n",
       "      <td>17850.0</td>\n",
       "      <td>United Kingdom</td>\n",
       "    </tr>\n",
       "    <tr>\n",
       "      <th>2</th>\n",
       "      <td>536365</td>\n",
       "      <td>84406B</td>\n",
       "      <td>CREAM CUPID HEARTS COAT HANGER</td>\n",
       "      <td>8.0</td>\n",
       "      <td>12/1/2010 8:26</td>\n",
       "      <td>2.75</td>\n",
       "      <td>17850.0</td>\n",
       "      <td>United Kingdom</td>\n",
       "    </tr>\n",
       "    <tr>\n",
       "      <th>3</th>\n",
       "      <td>536365</td>\n",
       "      <td>84029G</td>\n",
       "      <td>KNITTED UNION FLAG HOT WATER BOTTLE</td>\n",
       "      <td>6.0</td>\n",
       "      <td>12/1/2010 8:26</td>\n",
       "      <td>3.39</td>\n",
       "      <td>17850.0</td>\n",
       "      <td>United Kingdom</td>\n",
       "    </tr>\n",
       "    <tr>\n",
       "      <th>4</th>\n",
       "      <td>536365</td>\n",
       "      <td>84029E</td>\n",
       "      <td>RED WOOLLY HOTTIE WHITE HEART.</td>\n",
       "      <td>6.0</td>\n",
       "      <td>12/1/2010 8:26</td>\n",
       "      <td>3.39</td>\n",
       "      <td>17850.0</td>\n",
       "      <td>United Kingdom</td>\n",
       "    </tr>\n",
       "    <tr>\n",
       "      <th>...</th>\n",
       "      <td>...</td>\n",
       "      <td>...</td>\n",
       "      <td>...</td>\n",
       "      <td>...</td>\n",
       "      <td>...</td>\n",
       "      <td>...</td>\n",
       "      <td>...</td>\n",
       "      <td>...</td>\n",
       "    </tr>\n",
       "    <tr>\n",
       "      <th>541900</th>\n",
       "      <td>581587</td>\n",
       "      <td>22730</td>\n",
       "      <td>ALARM CLOCK BAKELIKE IVORY</td>\n",
       "      <td>4.0</td>\n",
       "      <td>12/9/2011 12:50</td>\n",
       "      <td>3.75</td>\n",
       "      <td>12680.0</td>\n",
       "      <td>France</td>\n",
       "    </tr>\n",
       "    <tr>\n",
       "      <th>541903</th>\n",
       "      <td>581587</td>\n",
       "      <td>23256</td>\n",
       "      <td>CHILDRENS CUTLERY SPACEBOY</td>\n",
       "      <td>4.0</td>\n",
       "      <td>12/9/2011 12:50</td>\n",
       "      <td>4.15</td>\n",
       "      <td>12680.0</td>\n",
       "      <td>France</td>\n",
       "    </tr>\n",
       "    <tr>\n",
       "      <th>541906</th>\n",
       "      <td>581587</td>\n",
       "      <td>23254</td>\n",
       "      <td>CHILDRENS CUTLERY DOLLY GIRL</td>\n",
       "      <td>4.0</td>\n",
       "      <td>12/9/2011 12:50</td>\n",
       "      <td>4.15</td>\n",
       "      <td>12680.0</td>\n",
       "      <td>France</td>\n",
       "    </tr>\n",
       "    <tr>\n",
       "      <th>541907</th>\n",
       "      <td>581587</td>\n",
       "      <td>23255</td>\n",
       "      <td>CHILDRENS CUTLERY CIRCUS PARADE</td>\n",
       "      <td>4.0</td>\n",
       "      <td>12/9/2011 12:50</td>\n",
       "      <td>4.15</td>\n",
       "      <td>12680.0</td>\n",
       "      <td>France</td>\n",
       "    </tr>\n",
       "    <tr>\n",
       "      <th>541908</th>\n",
       "      <td>581587</td>\n",
       "      <td>22138</td>\n",
       "      <td>BAKING SET 9 PIECE RETROSPOT</td>\n",
       "      <td>3.0</td>\n",
       "      <td>12/9/2011 12:50</td>\n",
       "      <td>4.95</td>\n",
       "      <td>12680.0</td>\n",
       "      <td>France</td>\n",
       "    </tr>\n",
       "  </tbody>\n",
       "</table>\n",
       "<p>320064 rows × 8 columns</p>\n",
       "</div>"
      ],
      "text/plain": [
       "       InvoiceNo StockCode                          Description  Quantity  \\\n",
       "0         536365    85123A   WHITE HANGING HEART T-LIGHT HOLDER       6.0   \n",
       "1         536365     71053                  WHITE METAL LANTERN       6.0   \n",
       "2         536365    84406B       CREAM CUPID HEARTS COAT HANGER       8.0   \n",
       "3         536365    84029G  KNITTED UNION FLAG HOT WATER BOTTLE       6.0   \n",
       "4         536365    84029E       RED WOOLLY HOTTIE WHITE HEART.       6.0   \n",
       "...          ...       ...                                  ...       ...   \n",
       "541900    581587     22730           ALARM CLOCK BAKELIKE IVORY       4.0   \n",
       "541903    581587     23256          CHILDRENS CUTLERY SPACEBOY        4.0   \n",
       "541906    581587     23254        CHILDRENS CUTLERY DOLLY GIRL        4.0   \n",
       "541907    581587     23255      CHILDRENS CUTLERY CIRCUS PARADE       4.0   \n",
       "541908    581587     22138        BAKING SET 9 PIECE RETROSPOT        3.0   \n",
       "\n",
       "            InvoiceDate  UnitPrice CustomerID         Country  \n",
       "0        12/1/2010 8:26       2.55    17850.0  United Kingdom  \n",
       "1        12/1/2010 8:26       3.39    17850.0  United Kingdom  \n",
       "2        12/1/2010 8:26       2.75    17850.0  United Kingdom  \n",
       "3        12/1/2010 8:26       3.39    17850.0  United Kingdom  \n",
       "4        12/1/2010 8:26       3.39    17850.0  United Kingdom  \n",
       "...                 ...        ...        ...             ...  \n",
       "541900  12/9/2011 12:50       3.75    12680.0          France  \n",
       "541903  12/9/2011 12:50       4.15    12680.0          France  \n",
       "541906  12/9/2011 12:50       4.15    12680.0          France  \n",
       "541907  12/9/2011 12:50       4.15    12680.0          France  \n",
       "541908  12/9/2011 12:50       4.95    12680.0          France  \n",
       "\n",
       "[320064 rows x 8 columns]"
      ]
     },
     "execution_count": 20,
     "metadata": {},
     "output_type": "execute_result"
    }
   ],
   "source": [
    "df.dropna(axis=0)"
   ]
  },
  {
   "cell_type": "markdown",
   "id": "829ec7ac",
   "metadata": {
    "papermill": {
     "duration": 0.016278,
     "end_time": "2024-11-23T20:52:54.451375",
     "exception": false,
     "start_time": "2024-11-23T20:52:54.435097",
     "status": "completed"
    },
    "tags": []
   },
   "source": [
    "Veri setimizde \"UnitPrice\" ve buna karşılık gelen \"Description\" yani ürünler mevcut \"UnitPrice\"'da eksik olan değerleri \"Description\" karşılığına gelen Price verilerinin ortalamasını alarak doldurabiliriz."
   ]
  },
  {
   "cell_type": "code",
   "execution_count": 21,
   "id": "c4dd6b11",
   "metadata": {
    "execution": {
     "iopub.execute_input": "2024-11-23T20:52:54.484660Z",
     "iopub.status.busy": "2024-11-23T20:52:54.484252Z",
     "iopub.status.idle": "2024-11-23T20:52:54.561247Z",
     "shell.execute_reply": "2024-11-23T20:52:54.559863Z"
    },
    "papermill": {
     "duration": 0.09666,
     "end_time": "2024-11-23T20:52:54.563861",
     "exception": false,
     "start_time": "2024-11-23T20:52:54.467201",
     "status": "completed"
    },
    "tags": []
   },
   "outputs": [],
   "source": [
    "numerical_fillna =df.groupby(\"Description\")[\"UnitPrice\"].mean()"
   ]
  },
  {
   "cell_type": "code",
   "execution_count": 22,
   "id": "543f05dd",
   "metadata": {
    "execution": {
     "iopub.execute_input": "2024-11-23T20:52:54.597404Z",
     "iopub.status.busy": "2024-11-23T20:52:54.596999Z",
     "iopub.status.idle": "2024-11-23T20:52:54.769465Z",
     "shell.execute_reply": "2024-11-23T20:52:54.768385Z"
    },
    "papermill": {
     "duration": 0.191988,
     "end_time": "2024-11-23T20:52:54.771774",
     "exception": false,
     "start_time": "2024-11-23T20:52:54.579786",
     "status": "completed"
    },
    "tags": []
   },
   "outputs": [
    {
     "data": {
      "text/plain": [
       "InvoiceNo       15881\n",
       "StockCode       16017\n",
       "Description     17584\n",
       "Quantity        15796\n",
       "InvoiceDate     16099\n",
       "UnitPrice         494\n",
       "CustomerID     147192\n",
       "Country         16083\n",
       "dtype: int64"
      ]
     },
     "execution_count": 22,
     "metadata": {},
     "output_type": "execute_result"
    }
   ],
   "source": [
    "\n",
    "df[\"UnitPrice\"] = df[\"UnitPrice\"].fillna(df[\"Description\"].map(numerical_fillna))\n",
    "df.isnull().sum()"
   ]
  },
  {
   "cell_type": "markdown",
   "id": "dd2cf592",
   "metadata": {
    "papermill": {
     "duration": 0.015681,
     "end_time": "2024-11-23T20:52:54.803535",
     "exception": false,
     "start_time": "2024-11-23T20:52:54.787854",
     "status": "completed"
    },
    "tags": []
   },
   "source": [
    "Kalan eksik verileri silebiliriz"
   ]
  },
  {
   "cell_type": "code",
   "execution_count": 23,
   "id": "cf32f434",
   "metadata": {
    "execution": {
     "iopub.execute_input": "2024-11-23T20:52:54.837984Z",
     "iopub.status.busy": "2024-11-23T20:52:54.837584Z",
     "iopub.status.idle": "2024-11-23T20:52:54.988966Z",
     "shell.execute_reply": "2024-11-23T20:52:54.987786Z"
    },
    "papermill": {
     "duration": 0.172045,
     "end_time": "2024-11-23T20:52:54.991417",
     "exception": false,
     "start_time": "2024-11-23T20:52:54.819372",
     "status": "completed"
    },
    "tags": []
   },
   "outputs": [],
   "source": [
    "df.dropna(axis=0,inplace=True)"
   ]
  },
  {
   "cell_type": "code",
   "execution_count": 24,
   "id": "ba7c07f7",
   "metadata": {
    "execution": {
     "iopub.execute_input": "2024-11-23T20:52:55.028279Z",
     "iopub.status.busy": "2024-11-23T20:52:55.027882Z",
     "iopub.status.idle": "2024-11-23T20:52:55.111420Z",
     "shell.execute_reply": "2024-11-23T20:52:55.110079Z"
    },
    "papermill": {
     "duration": 0.10512,
     "end_time": "2024-11-23T20:52:55.114290",
     "exception": false,
     "start_time": "2024-11-23T20:52:55.009170",
     "status": "completed"
    },
    "tags": []
   },
   "outputs": [
    {
     "data": {
      "text/plain": [
       "InvoiceNo      0\n",
       "StockCode      0\n",
       "Description    0\n",
       "Quantity       0\n",
       "InvoiceDate    0\n",
       "UnitPrice      0\n",
       "CustomerID     0\n",
       "Country        0\n",
       "dtype: int64"
      ]
     },
     "execution_count": 24,
     "metadata": {},
     "output_type": "execute_result"
    }
   ],
   "source": [
    "df.isnull().sum()"
   ]
  },
  {
   "cell_type": "markdown",
   "id": "ea20c718",
   "metadata": {
    "papermill": {
     "duration": 0.015713,
     "end_time": "2024-11-23T20:52:55.147347",
     "exception": false,
     "start_time": "2024-11-23T20:52:55.131634",
     "status": "completed"
    },
    "tags": []
   },
   "source": [
    "**3.Kategorik Değişken Analizi**"
   ]
  },
  {
   "cell_type": "code",
   "execution_count": 25,
   "id": "6a0db28c",
   "metadata": {
    "execution": {
     "iopub.execute_input": "2024-11-23T20:52:55.180972Z",
     "iopub.status.busy": "2024-11-23T20:52:55.180595Z",
     "iopub.status.idle": "2024-11-23T20:52:55.347201Z",
     "shell.execute_reply": "2024-11-23T20:52:55.345759Z"
    },
    "papermill": {
     "duration": 0.186629,
     "end_time": "2024-11-23T20:52:55.349992",
     "exception": false,
     "start_time": "2024-11-23T20:52:55.163363",
     "status": "completed"
    },
    "tags": []
   },
   "outputs": [
    {
     "name": "stdout",
     "output_type": "stream",
     "text": [
      "<class 'pandas.core.frame.DataFrame'>\n",
      "Index: 329812 entries, 0 to 541908\n",
      "Data columns (total 8 columns):\n",
      " #   Column       Non-Null Count   Dtype   \n",
      "---  ------       --------------   -----   \n",
      " 0   InvoiceNo    329812 non-null  object  \n",
      " 1   StockCode    329812 non-null  object  \n",
      " 2   Description  329812 non-null  object  \n",
      " 3   Quantity     329812 non-null  float64 \n",
      " 4   InvoiceDate  329812 non-null  object  \n",
      " 5   UnitPrice    329812 non-null  float64 \n",
      " 6   CustomerID   329812 non-null  object  \n",
      " 7   Country      329812 non-null  category\n",
      "dtypes: category(1), float64(2), object(5)\n",
      "memory usage: 20.4+ MB\n"
     ]
    }
   ],
   "source": [
    "df = df.copy()\n",
    "df.info()"
   ]
  },
  {
   "cell_type": "markdown",
   "id": "0fa02937",
   "metadata": {
    "papermill": {
     "duration": 0.01708,
     "end_time": "2024-11-23T20:52:55.383290",
     "exception": false,
     "start_time": "2024-11-23T20:52:55.366210",
     "status": "completed"
    },
    "tags": []
   },
   "source": [
    "Kategorik Değişkenin eşsiz değerlerini ve sayısını görebiliriz"
   ]
  },
  {
   "cell_type": "code",
   "execution_count": 26,
   "id": "9104e827",
   "metadata": {
    "execution": {
     "iopub.execute_input": "2024-11-23T20:52:55.417785Z",
     "iopub.status.busy": "2024-11-23T20:52:55.417356Z",
     "iopub.status.idle": "2024-11-23T20:52:55.428085Z",
     "shell.execute_reply": "2024-11-23T20:52:55.426891Z"
    },
    "papermill": {
     "duration": 0.031352,
     "end_time": "2024-11-23T20:52:55.430947",
     "exception": false,
     "start_time": "2024-11-23T20:52:55.399595",
     "status": "completed"
    },
    "tags": []
   },
   "outputs": [
    {
     "data": {
      "text/plain": [
       "['United Kingdom', 'France', 'Australia', 'Netherlands', 'Germany', ..., 'USA', 'European Community', 'Bahrain', 'Malta', 'RSA']\n",
       "Length: 37\n",
       "Categories (38, object): ['Australia', 'Austria', 'Bahrain', 'Belgium', ..., 'USA', 'United Arab Emirates', 'United Kingdom', 'Unspecified']"
      ]
     },
     "execution_count": 26,
     "metadata": {},
     "output_type": "execute_result"
    }
   ],
   "source": [
    "df[\"Country\"].unique()\n",
    "\n"
   ]
  },
  {
   "cell_type": "code",
   "execution_count": 27,
   "id": "390a5b8f",
   "metadata": {
    "execution": {
     "iopub.execute_input": "2024-11-23T20:52:55.467861Z",
     "iopub.status.busy": "2024-11-23T20:52:55.467443Z",
     "iopub.status.idle": "2024-11-23T20:52:55.476248Z",
     "shell.execute_reply": "2024-11-23T20:52:55.475281Z"
    },
    "papermill": {
     "duration": 0.029563,
     "end_time": "2024-11-23T20:52:55.478420",
     "exception": false,
     "start_time": "2024-11-23T20:52:55.448857",
     "status": "completed"
    },
    "tags": []
   },
   "outputs": [
    {
     "data": {
      "text/plain": [
       "37"
      ]
     },
     "execution_count": 27,
     "metadata": {},
     "output_type": "execute_result"
    }
   ],
   "source": [
    "df[\"Country\"].nunique()"
   ]
  },
  {
   "cell_type": "markdown",
   "id": "d09b40e6",
   "metadata": {
    "papermill": {
     "duration": 0.016046,
     "end_time": "2024-11-23T20:52:55.510771",
     "exception": false,
     "start_time": "2024-11-23T20:52:55.494725",
     "status": "completed"
    },
    "tags": []
   },
   "source": [
    "Kategorik değişken için gözlem sayısı bulunur"
   ]
  },
  {
   "cell_type": "code",
   "execution_count": 28,
   "id": "34c8d6e5",
   "metadata": {
    "execution": {
     "iopub.execute_input": "2024-11-23T20:52:55.547172Z",
     "iopub.status.busy": "2024-11-23T20:52:55.546779Z",
     "iopub.status.idle": "2024-11-23T20:52:55.557803Z",
     "shell.execute_reply": "2024-11-23T20:52:55.556232Z"
    },
    "papermill": {
     "duration": 0.033002,
     "end_time": "2024-11-23T20:52:55.560576",
     "exception": false,
     "start_time": "2024-11-23T20:52:55.527574",
     "status": "completed"
    },
    "tags": []
   },
   "outputs": [
    {
     "name": "stdout",
     "output_type": "stream",
     "text": [
      "Country\n",
      "United Kingdom          293530\n",
      "Germany                   7626\n",
      "France                    6864\n",
      "EIRE                      6071\n",
      "Spain                     2029\n",
      "Netherlands               1918\n",
      "Belgium                   1673\n",
      "Switzerland               1529\n",
      "Portugal                  1160\n",
      "Australia                 1024\n",
      "Norway                     881\n",
      "Italy                      635\n",
      "Channel Islands            595\n",
      "Finland                    571\n",
      "Cyprus                     491\n",
      "Sweden                     374\n",
      "Austria                    333\n",
      "Denmark                    310\n",
      "Japan                      294\n",
      "Poland                     274\n",
      "USA                        232\n",
      "Unspecified                199\n",
      "Israel                     194\n",
      "Singapore                  192\n",
      "Iceland                    152\n",
      "Canada                     129\n",
      "Greece                     115\n",
      "Malta                      104\n",
      "United Arab Emirates        62\n",
      "European Community          53\n",
      "RSA                         49\n",
      "Lebanon                     40\n",
      "Lithuania                   32\n",
      "Brazil                      28\n",
      "Czech Republic              25\n",
      "Bahrain                     15\n",
      "Saudi Arabia                 9\n",
      "Hong Kong                    0\n",
      "Name: count, dtype: int64\n",
      " *********************************************\n"
     ]
    }
   ],
   "source": [
    "for col in df.columns:\n",
    "    if  df[col].dtype.name == \"category\":  # Kategorik sütunları kontrol et\n",
    "        print(f'{df[col].value_counts()}\\n', 5*\"*********\")\n",
    "    else:\n",
    "        0\n",
    "       \n",
    "\n",
    "    "
   ]
  },
  {
   "cell_type": "markdown",
   "id": "83f463bd",
   "metadata": {
    "papermill": {
     "duration": 0.016693,
     "end_time": "2024-11-23T20:52:55.595016",
     "exception": false,
     "start_time": "2024-11-23T20:52:55.578323",
     "status": "completed"
    },
    "tags": []
   },
   "source": [
    "Kategorik değişkenleri görselleştirerek daha iyi analiz yapabilirsiniz.\n",
    "\n",
    "Bar plot: Kategorilerin frekansını görsel olarak gösterir."
   ]
  },
  {
   "cell_type": "code",
   "execution_count": 29,
   "id": "6296177a",
   "metadata": {
    "execution": {
     "iopub.execute_input": "2024-11-23T20:52:55.631222Z",
     "iopub.status.busy": "2024-11-23T20:52:55.630426Z",
     "iopub.status.idle": "2024-11-23T20:52:56.056640Z",
     "shell.execute_reply": "2024-11-23T20:52:56.055455Z"
    },
    "papermill": {
     "duration": 0.446089,
     "end_time": "2024-11-23T20:52:56.058934",
     "exception": false,
     "start_time": "2024-11-23T20:52:55.612845",
     "status": "completed"
    },
    "tags": []
   },
   "outputs": [
    {
     "data": {
      "image/png": "[encoded data removed]",
      "text/plain": [
       "<Figure size 1000x200 with 1 Axes>"
      ]
     },
     "metadata": {},
     "output_type": "display_data"
    }
   ],
   "source": [
    "import matplotlib.pyplot as plt\n",
    "\n",
    "df['Country'].value_counts().plot(kind='bar', figsize=(10,2))\n",
    "plt.title('Category Distribution')\n",
    "plt.ylabel('Frequency')\n",
    "plt.show()\n"
   ]
  },
  {
   "cell_type": "markdown",
   "id": "83ea5896",
   "metadata": {
    "papermill": {
     "duration": 0.018021,
     "end_time": "2024-11-23T20:52:56.096465",
     "exception": false,
     "start_time": "2024-11-23T20:52:56.078444",
     "status": "completed"
    },
    "tags": []
   },
   "source": [
    "Kategorik değişkenlere göre veri setini gruplayarak bazı istatistikler (örneğin, ortalama, toplam) alabilirsiniz."
   ]
  },
  {
   "cell_type": "code",
   "execution_count": 30,
   "id": "e6f9e41d",
   "metadata": {
    "execution": {
     "iopub.execute_input": "2024-11-23T20:52:56.136673Z",
     "iopub.status.busy": "2024-11-23T20:52:56.136252Z",
     "iopub.status.idle": "2024-11-23T20:52:56.151938Z",
     "shell.execute_reply": "2024-11-23T20:52:56.150731Z"
    },
    "papermill": {
     "duration": 0.038211,
     "end_time": "2024-11-23T20:52:56.153995",
     "exception": false,
     "start_time": "2024-11-23T20:52:56.115784",
     "status": "completed"
    },
    "tags": []
   },
   "outputs": [
    {
     "name": "stderr",
     "output_type": "stream",
     "text": [
      "/tmp/ipykernel_17/4112098360.py:1: FutureWarning: The default of observed=False is deprecated and will be changed to True in a future version of pandas. Pass observed=False to retain current behavior or observed=True to adopt the future default and silence this warning.\n",
      "  df.groupby('Country')['UnitPrice'].mean()\n"
     ]
    },
    {
     "data": {
      "text/plain": [
       "Country\n",
       "Australia                 3.246814\n",
       "Austria                   4.017877\n",
       "Bahrain                   3.936667\n",
       "Belgium                   3.788234\n",
       "Brazil                    4.417420\n",
       "Canada                    6.623576\n",
       "Channel Islands           4.711991\n",
       "Cyprus                    6.238964\n",
       "Czech Republic            3.314400\n",
       "Denmark                   3.440842\n",
       "EIRE                      5.281172\n",
       "European Community        5.523912\n",
       "Finland                   5.692248\n",
       "France                    5.328280\n",
       "Germany                   3.780644\n",
       "Greece                    4.570577\n",
       "Hong Kong                      NaN\n",
       "Iceland                   2.525747\n",
       "Israel                    3.744609\n",
       "Italy                     4.972758\n",
       "Japan                     3.587076\n",
       "Lebanon                   5.643947\n",
       "Lithuania                 2.637202\n",
       "Malta                     4.985522\n",
       "Netherlands               2.745355\n",
       "Norway                    5.666023\n",
       "Poland                    4.154033\n",
       "Portugal                  9.280666\n",
       "RSA                       4.225714\n",
       "Saudi Arabia              2.351111\n",
       "Singapore               122.953821\n",
       "Spain                     5.284935\n",
       "Sweden                    4.016662\n",
       "Switzerland               3.517965\n",
       "USA                       2.262453\n",
       "United Arab Emirates      3.322423\n",
       "United Kingdom            3.166531\n",
       "Unspecified               3.287551\n",
       "Name: UnitPrice, dtype: float64"
      ]
     },
     "execution_count": 30,
     "metadata": {},
     "output_type": "execute_result"
    }
   ],
   "source": [
    "df.groupby('Country')['UnitPrice'].mean()\n"
   ]
  },
  {
   "cell_type": "markdown",
   "id": "f3e605e8",
   "metadata": {
    "papermill": {
     "duration": 0.017207,
     "end_time": "2024-11-23T20:52:56.188685",
     "exception": false,
     "start_time": "2024-11-23T20:52:56.171478",
     "status": "completed"
    },
    "tags": []
   },
   "source": [
    "Bu kod, Country sütunundaki en sık görülen 10 ülkeyi seçip, yalnızca bu ülkelerle ilgili verileri filtreleyerek, her bir ülke için UnitPrice değerlerinin dağılımını görselleştiren bir kategorik grafik (catplot) oluşturur. Bu sayede sadece en popüler 10 ülke ve ilgili fiyat bilgilerini görüntülemiş olursunuz."
   ]
  },
  {
   "cell_type": "code",
   "execution_count": 31,
   "id": "23504ae3",
   "metadata": {
    "execution": {
     "iopub.execute_input": "2024-11-23T20:52:56.225672Z",
     "iopub.status.busy": "2024-11-23T20:52:56.225242Z",
     "iopub.status.idle": "2024-11-23T20:52:58.213302Z",
     "shell.execute_reply": "2024-11-23T20:52:58.211989Z"
    },
    "papermill": {
     "duration": 2.009599,
     "end_time": "2024-11-23T20:52:58.215675",
     "exception": false,
     "start_time": "2024-11-23T20:52:56.206076",
     "status": "completed"
    },
    "tags": []
   },
   "outputs": [
    {
     "name": "stderr",
     "output_type": "stream",
     "text": [
      "/opt/conda/lib/python3.10/site-packages/seaborn/_oldcore.py:1119: FutureWarning: use_inf_as_na option is deprecated and will be removed in a future version. Convert inf values to NaN before operating instead.\n",
      "  with pd.option_context('mode.use_inf_as_na', True):\n",
      "/opt/conda/lib/python3.10/site-packages/seaborn/_oldcore.py:1119: FutureWarning: use_inf_as_na option is deprecated and will be removed in a future version. Convert inf values to NaN before operating instead.\n",
      "  with pd.option_context('mode.use_inf_as_na', True):\n",
      "/opt/conda/lib/python3.10/site-packages/seaborn/_oldcore.py:1075: FutureWarning: When grouping with a length-1 list-like, you will need to pass a length-1 tuple to get_group in a future version of pandas. Pass `(name,)` instead of `name` to silence this warning.\n",
      "  data_subset = grouped_data.get_group(pd_key)\n",
      "/opt/conda/lib/python3.10/site-packages/seaborn/_oldcore.py:1075: FutureWarning: When grouping with a length-1 list-like, you will need to pass a length-1 tuple to get_group in a future version of pandas. Pass `(name,)` instead of `name` to silence this warning.\n",
      "  data_subset = grouped_data.get_group(pd_key)\n",
      "/opt/conda/lib/python3.10/site-packages/seaborn/_oldcore.py:1075: FutureWarning: When grouping with a length-1 list-like, you will need to pass a length-1 tuple to get_group in a future version of pandas. Pass `(name,)` instead of `name` to silence this warning.\n",
      "  data_subset = grouped_data.get_group(pd_key)\n",
      "/opt/conda/lib/python3.10/site-packages/seaborn/_oldcore.py:1075: FutureWarning: When grouping with a length-1 list-like, you will need to pass a length-1 tuple to get_group in a future version of pandas. Pass `(name,)` instead of `name` to silence this warning.\n",
      "  data_subset = grouped_data.get_group(pd_key)\n",
      "/opt/conda/lib/python3.10/site-packages/seaborn/_oldcore.py:1075: FutureWarning: When grouping with a length-1 list-like, you will need to pass a length-1 tuple to get_group in a future version of pandas. Pass `(name,)` instead of `name` to silence this warning.\n",
      "  data_subset = grouped_data.get_group(pd_key)\n",
      "/opt/conda/lib/python3.10/site-packages/seaborn/_oldcore.py:1075: FutureWarning: When grouping with a length-1 list-like, you will need to pass a length-1 tuple to get_group in a future version of pandas. Pass `(name,)` instead of `name` to silence this warning.\n",
      "  data_subset = grouped_data.get_group(pd_key)\n",
      "/opt/conda/lib/python3.10/site-packages/seaborn/_oldcore.py:1075: FutureWarning: When grouping with a length-1 list-like, you will need to pass a length-1 tuple to get_group in a future version of pandas. Pass `(name,)` instead of `name` to silence this warning.\n",
      "  data_subset = grouped_data.get_group(pd_key)\n",
      "/opt/conda/lib/python3.10/site-packages/seaborn/_oldcore.py:1075: FutureWarning: When grouping with a length-1 list-like, you will need to pass a length-1 tuple to get_group in a future version of pandas. Pass `(name,)` instead of `name` to silence this warning.\n",
      "  data_subset = grouped_data.get_group(pd_key)\n",
      "/opt/conda/lib/python3.10/site-packages/seaborn/_oldcore.py:1075: FutureWarning: When grouping with a length-1 list-like, you will need to pass a length-1 tuple to get_group in a future version of pandas. Pass `(name,)` instead of `name` to silence this warning.\n",
      "  data_subset = grouped_data.get_group(pd_key)\n",
      "/opt/conda/lib/python3.10/site-packages/seaborn/_oldcore.py:1075: FutureWarning: When grouping with a length-1 list-like, you will need to pass a length-1 tuple to get_group in a future version of pandas. Pass `(name,)` instead of `name` to silence this warning.\n",
      "  data_subset = grouped_data.get_group(pd_key)\n",
      "/opt/conda/lib/python3.10/site-packages/seaborn/_oldcore.py:1075: FutureWarning: When grouping with a length-1 list-like, you will need to pass a length-1 tuple to get_group in a future version of pandas. Pass `(name,)` instead of `name` to silence this warning.\n",
      "  data_subset = grouped_data.get_group(pd_key)\n",
      "/opt/conda/lib/python3.10/site-packages/seaborn/_oldcore.py:1075: FutureWarning: When grouping with a length-1 list-like, you will need to pass a length-1 tuple to get_group in a future version of pandas. Pass `(name,)` instead of `name` to silence this warning.\n",
      "  data_subset = grouped_data.get_group(pd_key)\n",
      "/opt/conda/lib/python3.10/site-packages/seaborn/_oldcore.py:1075: FutureWarning: When grouping with a length-1 list-like, you will need to pass a length-1 tuple to get_group in a future version of pandas. Pass `(name,)` instead of `name` to silence this warning.\n",
      "  data_subset = grouped_data.get_group(pd_key)\n",
      "/opt/conda/lib/python3.10/site-packages/seaborn/_oldcore.py:1075: FutureWarning: When grouping with a length-1 list-like, you will need to pass a length-1 tuple to get_group in a future version of pandas. Pass `(name,)` instead of `name` to silence this warning.\n",
      "  data_subset = grouped_data.get_group(pd_key)\n",
      "/opt/conda/lib/python3.10/site-packages/seaborn/_oldcore.py:1075: FutureWarning: When grouping with a length-1 list-like, you will need to pass a length-1 tuple to get_group in a future version of pandas. Pass `(name,)` instead of `name` to silence this warning.\n",
      "  data_subset = grouped_data.get_group(pd_key)\n",
      "/opt/conda/lib/python3.10/site-packages/seaborn/_oldcore.py:1075: FutureWarning: When grouping with a length-1 list-like, you will need to pass a length-1 tuple to get_group in a future version of pandas. Pass `(name,)` instead of `name` to silence this warning.\n",
      "  data_subset = grouped_data.get_group(pd_key)\n",
      "/opt/conda/lib/python3.10/site-packages/seaborn/_oldcore.py:1075: FutureWarning: When grouping with a length-1 list-like, you will need to pass a length-1 tuple to get_group in a future version of pandas. Pass `(name,)` instead of `name` to silence this warning.\n",
      "  data_subset = grouped_data.get_group(pd_key)\n",
      "/opt/conda/lib/python3.10/site-packages/seaborn/_oldcore.py:1075: FutureWarning: When grouping with a length-1 list-like, you will need to pass a length-1 tuple to get_group in a future version of pandas. Pass `(name,)` instead of `name` to silence this warning.\n",
      "  data_subset = grouped_data.get_group(pd_key)\n",
      "/opt/conda/lib/python3.10/site-packages/seaborn/_oldcore.py:1075: FutureWarning: When grouping with a length-1 list-like, you will need to pass a length-1 tuple to get_group in a future version of pandas. Pass `(name,)` instead of `name` to silence this warning.\n",
      "  data_subset = grouped_data.get_group(pd_key)\n",
      "/opt/conda/lib/python3.10/site-packages/seaborn/_oldcore.py:1075: FutureWarning: When grouping with a length-1 list-like, you will need to pass a length-1 tuple to get_group in a future version of pandas. Pass `(name,)` instead of `name` to silence this warning.\n",
      "  data_subset = grouped_data.get_group(pd_key)\n",
      "/opt/conda/lib/python3.10/site-packages/seaborn/_oldcore.py:1075: FutureWarning: When grouping with a length-1 list-like, you will need to pass a length-1 tuple to get_group in a future version of pandas. Pass `(name,)` instead of `name` to silence this warning.\n",
      "  data_subset = grouped_data.get_group(pd_key)\n",
      "/opt/conda/lib/python3.10/site-packages/seaborn/_oldcore.py:1075: FutureWarning: When grouping with a length-1 list-like, you will need to pass a length-1 tuple to get_group in a future version of pandas. Pass `(name,)` instead of `name` to silence this warning.\n",
      "  data_subset = grouped_data.get_group(pd_key)\n",
      "/opt/conda/lib/python3.10/site-packages/seaborn/_oldcore.py:1075: FutureWarning: When grouping with a length-1 list-like, you will need to pass a length-1 tuple to get_group in a future version of pandas. Pass `(name,)` instead of `name` to silence this warning.\n",
      "  data_subset = grouped_data.get_group(pd_key)\n",
      "/opt/conda/lib/python3.10/site-packages/seaborn/_oldcore.py:1075: FutureWarning: When grouping with a length-1 list-like, you will need to pass a length-1 tuple to get_group in a future version of pandas. Pass `(name,)` instead of `name` to silence this warning.\n",
      "  data_subset = grouped_data.get_group(pd_key)\n",
      "/opt/conda/lib/python3.10/site-packages/seaborn/_oldcore.py:1075: FutureWarning: When grouping with a length-1 list-like, you will need to pass a length-1 tuple to get_group in a future version of pandas. Pass `(name,)` instead of `name` to silence this warning.\n",
      "  data_subset = grouped_data.get_group(pd_key)\n",
      "/opt/conda/lib/python3.10/site-packages/seaborn/_oldcore.py:1075: FutureWarning: When grouping with a length-1 list-like, you will need to pass a length-1 tuple to get_group in a future version of pandas. Pass `(name,)` instead of `name` to silence this warning.\n",
      "  data_subset = grouped_data.get_group(pd_key)\n",
      "/opt/conda/lib/python3.10/site-packages/seaborn/_oldcore.py:1075: FutureWarning: When grouping with a length-1 list-like, you will need to pass a length-1 tuple to get_group in a future version of pandas. Pass `(name,)` instead of `name` to silence this warning.\n",
      "  data_subset = grouped_data.get_group(pd_key)\n",
      "/opt/conda/lib/python3.10/site-packages/seaborn/_oldcore.py:1075: FutureWarning: When grouping with a length-1 list-like, you will need to pass a length-1 tuple to get_group in a future version of pandas. Pass `(name,)` instead of `name` to silence this warning.\n",
      "  data_subset = grouped_data.get_group(pd_key)\n"
     ]
    },
    {
     "data": {
      "image/png": "[encoded data removed]",
      "text/plain": [
       "<Figure size 500x500 with 1 Axes>"
      ]
     },
     "metadata": {},
     "output_type": "display_data"
    }
   ],
   "source": [
    "import seaborn as sns\n",
    "\n",
    "#Country sütunundaki en popüler 10 değeri seçiyoruz\n",
    "top_10_countries = df['Country'].value_counts().nlargest(10).index\n",
    "\n",
    "# Veri setini filtreliyoruz, sadece top 10 ülke\n",
    "filtered_df = df[df['Country'].isin(top_10_countries)]\n",
    "\n",
    "# Catplot'u çiziyoruz\n",
    "sns.catplot(data = filtered_df,\n",
    "            x = \"Country\",\n",
    "            y = \"UnitPrice\");"
   ]
  },
  {
   "cell_type": "markdown",
   "id": "7ca168a3",
   "metadata": {
    "papermill": {
     "duration": 0.018739,
     "end_time": "2024-11-23T20:52:58.252845",
     "exception": false,
     "start_time": "2024-11-23T20:52:58.234106",
     "status": "completed"
    },
    "tags": []
   },
   "source": [
    "Bu kod, her bir ülkenin satış miktarlarının (Quantity) ortalamalarını hesaplayarak, hangi ülkelerde daha fazla satış yapıldığını ve hangi ülkelerde daha düşük satış gerçekleştiğini gösterir. "
   ]
  },
  {
   "cell_type": "code",
   "execution_count": 32,
   "id": "bb8da139",
   "metadata": {
    "execution": {
     "iopub.execute_input": "2024-11-23T20:52:58.292311Z",
     "iopub.status.busy": "2024-11-23T20:52:58.291923Z",
     "iopub.status.idle": "2024-11-23T20:52:58.311944Z",
     "shell.execute_reply": "2024-11-23T20:52:58.310551Z"
    },
    "papermill": {
     "duration": 0.043124,
     "end_time": "2024-11-23T20:52:58.314652",
     "exception": false,
     "start_time": "2024-11-23T20:52:58.271528",
     "status": "completed"
    },
    "tags": []
   },
   "outputs": [
    {
     "name": "stderr",
     "output_type": "stream",
     "text": [
      "/tmp/ipykernel_17/307410567.py:1: FutureWarning: The default of observed=False is deprecated and will be changed to True in a future version of pandas. Pass observed=False to retain current behavior or observed=True to adopt the future default and silence this warning.\n",
      "  df_price = df.groupby(by = \"Country\")[\"Quantity\"].mean().to_frame().reset_index().sort_values(by = \"Quantity\", ascending = False)\n"
     ]
    },
    {
     "data": {
      "text/html": [
       "<div>\n",
       "<style scoped>\n",
       "    .dataframe tbody tr th:only-of-type {\n",
       "        vertical-align: middle;\n",
       "    }\n",
       "\n",
       "    .dataframe tbody tr th {\n",
       "        vertical-align: top;\n",
       "    }\n",
       "\n",
       "    .dataframe thead th {\n",
       "        text-align: right;\n",
       "    }\n",
       "</style>\n",
       "<table border=\"1\" class=\"dataframe\">\n",
       "  <thead>\n",
       "    <tr style=\"text-align: right;\">\n",
       "      <th></th>\n",
       "      <th>Country</th>\n",
       "      <th>Quantity</th>\n",
       "    </tr>\n",
       "  </thead>\n",
       "  <tbody>\n",
       "    <tr>\n",
       "      <th>24</th>\n",
       "      <td>Netherlands</td>\n",
       "      <td>86.129301</td>\n",
       "    </tr>\n",
       "    <tr>\n",
       "      <th>20</th>\n",
       "      <td>Japan</td>\n",
       "      <td>77.666667</td>\n",
       "    </tr>\n",
       "    <tr>\n",
       "      <th>32</th>\n",
       "      <td>Sweden</td>\n",
       "      <td>75.005348</td>\n",
       "    </tr>\n",
       "    <tr>\n",
       "      <th>0</th>\n",
       "      <td>Australia</td>\n",
       "      <td>64.944336</td>\n",
       "    </tr>\n",
       "    <tr>\n",
       "      <th>8</th>\n",
       "      <td>Czech Republic</td>\n",
       "      <td>22.360000</td>\n",
       "    </tr>\n",
       "    <tr>\n",
       "      <th>30</th>\n",
       "      <td>Singapore</td>\n",
       "      <td>21.520833</td>\n",
       "    </tr>\n",
       "    <tr>\n",
       "      <th>22</th>\n",
       "      <td>Lithuania</td>\n",
       "      <td>19.437500</td>\n",
       "    </tr>\n",
       "    <tr>\n",
       "      <th>9</th>\n",
       "      <td>Denmark</td>\n",
       "      <td>19.435484</td>\n",
       "    </tr>\n",
       "    <tr>\n",
       "      <th>5</th>\n",
       "      <td>Canada</td>\n",
       "      <td>19.434109</td>\n",
       "    </tr>\n",
       "    <tr>\n",
       "      <th>10</th>\n",
       "      <td>EIRE</td>\n",
       "      <td>18.157470</td>\n",
       "    </tr>\n",
       "    <tr>\n",
       "      <th>25</th>\n",
       "      <td>Norway</td>\n",
       "      <td>17.199773</td>\n",
       "    </tr>\n",
       "    <tr>\n",
       "      <th>2</th>\n",
       "      <td>Bahrain</td>\n",
       "      <td>16.933333</td>\n",
       "    </tr>\n",
       "    <tr>\n",
       "      <th>18</th>\n",
       "      <td>Israel</td>\n",
       "      <td>16.298969</td>\n",
       "    </tr>\n",
       "    <tr>\n",
       "      <th>33</th>\n",
       "      <td>Switzerland</td>\n",
       "      <td>15.395683</td>\n",
       "    </tr>\n",
       "    <tr>\n",
       "      <th>12</th>\n",
       "      <td>Finland</td>\n",
       "      <td>15.012259</td>\n",
       "    </tr>\n",
       "    <tr>\n",
       "      <th>35</th>\n",
       "      <td>United Arab Emirates</td>\n",
       "      <td>14.677419</td>\n",
       "    </tr>\n",
       "    <tr>\n",
       "      <th>17</th>\n",
       "      <td>Iceland</td>\n",
       "      <td>13.907895</td>\n",
       "    </tr>\n",
       "    <tr>\n",
       "      <th>13</th>\n",
       "      <td>France</td>\n",
       "      <td>12.934003</td>\n",
       "    </tr>\n",
       "    <tr>\n",
       "      <th>14</th>\n",
       "      <td>Germany</td>\n",
       "      <td>12.500656</td>\n",
       "    </tr>\n",
       "    <tr>\n",
       "      <th>1</th>\n",
       "      <td>Austria</td>\n",
       "      <td>11.804805</td>\n",
       "    </tr>\n",
       "    <tr>\n",
       "      <th>6</th>\n",
       "      <td>Channel Islands</td>\n",
       "      <td>11.759664</td>\n",
       "    </tr>\n",
       "    <tr>\n",
       "      <th>4</th>\n",
       "      <td>Brazil</td>\n",
       "      <td>11.500000</td>\n",
       "    </tr>\n",
       "    <tr>\n",
       "      <th>36</th>\n",
       "      <td>United Kingdom</td>\n",
       "      <td>11.314646</td>\n",
       "    </tr>\n",
       "    <tr>\n",
       "      <th>3</th>\n",
       "      <td>Belgium</td>\n",
       "      <td>11.161984</td>\n",
       "    </tr>\n",
       "    <tr>\n",
       "      <th>26</th>\n",
       "      <td>Poland</td>\n",
       "      <td>11.021898</td>\n",
       "    </tr>\n",
       "    <tr>\n",
       "      <th>27</th>\n",
       "      <td>Portugal</td>\n",
       "      <td>10.987931</td>\n",
       "    </tr>\n",
       "    <tr>\n",
       "      <th>15</th>\n",
       "      <td>Greece</td>\n",
       "      <td>10.869565</td>\n",
       "    </tr>\n",
       "    <tr>\n",
       "      <th>31</th>\n",
       "      <td>Spain</td>\n",
       "      <td>10.626417</td>\n",
       "    </tr>\n",
       "    <tr>\n",
       "      <th>19</th>\n",
       "      <td>Italy</td>\n",
       "      <td>9.773228</td>\n",
       "    </tr>\n",
       "    <tr>\n",
       "      <th>7</th>\n",
       "      <td>Cyprus</td>\n",
       "      <td>9.733198</td>\n",
       "    </tr>\n",
       "    <tr>\n",
       "      <th>21</th>\n",
       "      <td>Lebanon</td>\n",
       "      <td>8.650000</td>\n",
       "    </tr>\n",
       "    <tr>\n",
       "      <th>11</th>\n",
       "      <td>European Community</td>\n",
       "      <td>7.905660</td>\n",
       "    </tr>\n",
       "    <tr>\n",
       "      <th>29</th>\n",
       "      <td>Saudi Arabia</td>\n",
       "      <td>7.666667</td>\n",
       "    </tr>\n",
       "    <tr>\n",
       "      <th>23</th>\n",
       "      <td>Malta</td>\n",
       "      <td>7.432692</td>\n",
       "    </tr>\n",
       "    <tr>\n",
       "      <th>37</th>\n",
       "      <td>Unspecified</td>\n",
       "      <td>6.939698</td>\n",
       "    </tr>\n",
       "    <tr>\n",
       "      <th>28</th>\n",
       "      <td>RSA</td>\n",
       "      <td>6.040816</td>\n",
       "    </tr>\n",
       "    <tr>\n",
       "      <th>34</th>\n",
       "      <td>USA</td>\n",
       "      <td>3.853448</td>\n",
       "    </tr>\n",
       "    <tr>\n",
       "      <th>16</th>\n",
       "      <td>Hong Kong</td>\n",
       "      <td>NaN</td>\n",
       "    </tr>\n",
       "  </tbody>\n",
       "</table>\n",
       "</div>"
      ],
      "text/plain": [
       "                 Country   Quantity\n",
       "24           Netherlands  86.129301\n",
       "20                 Japan  77.666667\n",
       "32                Sweden  75.005348\n",
       "0              Australia  64.944336\n",
       "8         Czech Republic  22.360000\n",
       "30             Singapore  21.520833\n",
       "22             Lithuania  19.437500\n",
       "9                Denmark  19.435484\n",
       "5                 Canada  19.434109\n",
       "10                  EIRE  18.157470\n",
       "25                Norway  17.199773\n",
       "2                Bahrain  16.933333\n",
       "18                Israel  16.298969\n",
       "33           Switzerland  15.395683\n",
       "12               Finland  15.012259\n",
       "35  United Arab Emirates  14.677419\n",
       "17               Iceland  13.907895\n",
       "13                France  12.934003\n",
       "14               Germany  12.500656\n",
       "1                Austria  11.804805\n",
       "6        Channel Islands  11.759664\n",
       "4                 Brazil  11.500000\n",
       "36        United Kingdom  11.314646\n",
       "3                Belgium  11.161984\n",
       "26                Poland  11.021898\n",
       "27              Portugal  10.987931\n",
       "15                Greece  10.869565\n",
       "31                 Spain  10.626417\n",
       "19                 Italy   9.773228\n",
       "7                 Cyprus   9.733198\n",
       "21               Lebanon   8.650000\n",
       "11    European Community   7.905660\n",
       "29          Saudi Arabia   7.666667\n",
       "23                 Malta   7.432692\n",
       "37           Unspecified   6.939698\n",
       "28                   RSA   6.040816\n",
       "34                   USA   3.853448\n",
       "16             Hong Kong        NaN"
      ]
     },
     "execution_count": 32,
     "metadata": {},
     "output_type": "execute_result"
    }
   ],
   "source": [
    "df_price = df.groupby(by = \"Country\")[\"Quantity\"].mean().to_frame().reset_index().sort_values(by = \"Quantity\", ascending = False)\n",
    "\n",
    "df_price"
   ]
  },
  {
   "cell_type": "markdown",
   "id": "2a5e9cab",
   "metadata": {
    "papermill": {
     "duration": 0.01876,
     "end_time": "2024-11-23T20:52:58.352528",
     "exception": false,
     "start_time": "2024-11-23T20:52:58.333768",
     "status": "completed"
    },
    "tags": []
   },
   "source": [
    "**4. Sürekli Değişken Analizi**"
   ]
  },
  {
   "cell_type": "markdown",
   "id": "826d0026",
   "metadata": {
    "papermill": {
     "duration": 0.018692,
     "end_time": "2024-11-23T20:52:58.390314",
     "exception": false,
     "start_time": "2024-11-23T20:52:58.371622",
     "status": "completed"
    },
    "tags": []
   },
   "source": [
    "Veri setindeki nümerik veriler seçilir"
   ]
  },
  {
   "cell_type": "code",
   "execution_count": 33,
   "id": "a5595a69",
   "metadata": {
    "execution": {
     "iopub.execute_input": "2024-11-23T20:52:58.429941Z",
     "iopub.status.busy": "2024-11-23T20:52:58.429580Z",
     "iopub.status.idle": "2024-11-23T20:52:58.441728Z",
     "shell.execute_reply": "2024-11-23T20:52:58.440478Z"
    },
    "papermill": {
     "duration": 0.034797,
     "end_time": "2024-11-23T20:52:58.444203",
     "exception": false,
     "start_time": "2024-11-23T20:52:58.409406",
     "status": "completed"
    },
    "tags": []
   },
   "outputs": [
    {
     "data": {
      "text/html": [
       "<div>\n",
       "<style scoped>\n",
       "    .dataframe tbody tr th:only-of-type {\n",
       "        vertical-align: middle;\n",
       "    }\n",
       "\n",
       "    .dataframe tbody tr th {\n",
       "        vertical-align: top;\n",
       "    }\n",
       "\n",
       "    .dataframe thead th {\n",
       "        text-align: right;\n",
       "    }\n",
       "</style>\n",
       "<table border=\"1\" class=\"dataframe\">\n",
       "  <thead>\n",
       "    <tr style=\"text-align: right;\">\n",
       "      <th></th>\n",
       "      <th>Quantity</th>\n",
       "      <th>UnitPrice</th>\n",
       "    </tr>\n",
       "  </thead>\n",
       "  <tbody>\n",
       "    <tr>\n",
       "      <th>0</th>\n",
       "      <td>6.0</td>\n",
       "      <td>2.55</td>\n",
       "    </tr>\n",
       "    <tr>\n",
       "      <th>1</th>\n",
       "      <td>6.0</td>\n",
       "      <td>3.39</td>\n",
       "    </tr>\n",
       "    <tr>\n",
       "      <th>2</th>\n",
       "      <td>8.0</td>\n",
       "      <td>2.75</td>\n",
       "    </tr>\n",
       "    <tr>\n",
       "      <th>3</th>\n",
       "      <td>6.0</td>\n",
       "      <td>3.39</td>\n",
       "    </tr>\n",
       "    <tr>\n",
       "      <th>4</th>\n",
       "      <td>6.0</td>\n",
       "      <td>3.39</td>\n",
       "    </tr>\n",
       "  </tbody>\n",
       "</table>\n",
       "</div>"
      ],
      "text/plain": [
       "   Quantity  UnitPrice\n",
       "0       6.0       2.55\n",
       "1       6.0       3.39\n",
       "2       8.0       2.75\n",
       "3       6.0       3.39\n",
       "4       6.0       3.39"
      ]
     },
     "execution_count": 33,
     "metadata": {},
     "output_type": "execute_result"
    }
   ],
   "source": [
    "df_numerical = df.select_dtypes(include = [\"float64\", \"int64\"])\n",
    "df_numerical.head()"
   ]
  },
  {
   "cell_type": "code",
   "execution_count": 34,
   "id": "0516454e",
   "metadata": {
    "execution": {
     "iopub.execute_input": "2024-11-23T20:52:58.485395Z",
     "iopub.status.busy": "2024-11-23T20:52:58.484348Z",
     "iopub.status.idle": "2024-11-23T20:52:58.528846Z",
     "shell.execute_reply": "2024-11-23T20:52:58.527550Z"
    },
    "papermill": {
     "duration": 0.067314,
     "end_time": "2024-11-23T20:52:58.531209",
     "exception": false,
     "start_time": "2024-11-23T20:52:58.463895",
     "status": "completed"
    },
    "tags": []
   },
   "outputs": [
    {
     "data": {
      "text/html": [
       "<div>\n",
       "<style scoped>\n",
       "    .dataframe tbody tr th:only-of-type {\n",
       "        vertical-align: middle;\n",
       "    }\n",
       "\n",
       "    .dataframe tbody tr th {\n",
       "        vertical-align: top;\n",
       "    }\n",
       "\n",
       "    .dataframe thead th {\n",
       "        text-align: right;\n",
       "    }\n",
       "</style>\n",
       "<table border=\"1\" class=\"dataframe\">\n",
       "  <thead>\n",
       "    <tr style=\"text-align: right;\">\n",
       "      <th></th>\n",
       "      <th>count</th>\n",
       "      <th>mean</th>\n",
       "      <th>std</th>\n",
       "      <th>min</th>\n",
       "      <th>25%</th>\n",
       "      <th>50%</th>\n",
       "      <th>75%</th>\n",
       "      <th>max</th>\n",
       "    </tr>\n",
       "  </thead>\n",
       "  <tbody>\n",
       "    <tr>\n",
       "      <th>Quantity</th>\n",
       "      <td>329812.0</td>\n",
       "      <td>12.277692</td>\n",
       "      <td>236.442226</td>\n",
       "      <td>-74215.0</td>\n",
       "      <td>2.00</td>\n",
       "      <td>5.00</td>\n",
       "      <td>12.00</td>\n",
       "      <td>80995.00</td>\n",
       "    </tr>\n",
       "    <tr>\n",
       "      <th>UnitPrice</th>\n",
       "      <td>329812.0</td>\n",
       "      <td>3.399507</td>\n",
       "      <td>33.087072</td>\n",
       "      <td>0.0</td>\n",
       "      <td>1.25</td>\n",
       "      <td>1.95</td>\n",
       "      <td>3.75</td>\n",
       "      <td>8142.75</td>\n",
       "    </tr>\n",
       "  </tbody>\n",
       "</table>\n",
       "</div>"
      ],
      "text/plain": [
       "              count       mean         std      min   25%   50%    75%  \\\n",
       "Quantity   329812.0  12.277692  236.442226 -74215.0  2.00  5.00  12.00   \n",
       "UnitPrice  329812.0   3.399507   33.087072      0.0  1.25  1.95   3.75   \n",
       "\n",
       "                max  \n",
       "Quantity   80995.00  \n",
       "UnitPrice   8142.75  "
      ]
     },
     "execution_count": 34,
     "metadata": {},
     "output_type": "execute_result"
    }
   ],
   "source": [
    "df_numerical.describe().T"
   ]
  },
  {
   "cell_type": "markdown",
   "id": "b28fd4bd",
   "metadata": {
    "papermill": {
     "duration": 0.018997,
     "end_time": "2024-11-23T20:52:58.569321",
     "exception": false,
     "start_time": "2024-11-23T20:52:58.550324",
     "status": "completed"
    },
    "tags": []
   },
   "source": [
    "Bu kod parçası, veri setinizdeki yalnızca sayısal sütunları seçip bu sütunlar arasındaki korelasyonu hesaplar ve ardından bu korelasyonu bir ısı haritası (heatmap) olarak görselleştirir."
   ]
  },
  {
   "cell_type": "code",
   "execution_count": 35,
   "id": "4c8c5349",
   "metadata": {
    "execution": {
     "iopub.execute_input": "2024-11-23T20:52:58.661226Z",
     "iopub.status.busy": "2024-11-23T20:52:58.660870Z",
     "iopub.status.idle": "2024-11-23T20:52:58.848480Z",
     "shell.execute_reply": "2024-11-23T20:52:58.847319Z"
    },
    "papermill": {
     "duration": 0.210717,
     "end_time": "2024-11-23T20:52:58.851044",
     "exception": false,
     "start_time": "2024-11-23T20:52:58.640327",
     "status": "completed"
    },
    "tags": []
   },
   "outputs": [
    {
     "data": {
      "image/png": "[encoded data removed]",
      "text/plain": [
       "<Figure size 640x480 with 2 Axes>"
      ]
     },
     "metadata": {},
     "output_type": "display_data"
    }
   ],
   "source": [
    "# Sayısal sütunları seçerek korelasyonu hesaplayın\n",
    "numerical_df = df.select_dtypes(include=['float64', 'int64'])\n",
    "correlation_matrix = numerical_df.corr()\n",
    "\n",
    "# Korelasyon matrisini görselleştirin\n",
    "import seaborn as sns\n",
    "import matplotlib.pyplot as plt\n",
    "\n",
    "sns.heatmap(correlation_matrix, annot=True, cmap='coolwarm')\n",
    "plt.show()\n"
   ]
  },
  {
   "cell_type": "code",
   "execution_count": 36,
   "id": "7908efa7",
   "metadata": {
    "execution": {
     "iopub.execute_input": "2024-11-23T20:52:58.892198Z",
     "iopub.status.busy": "2024-11-23T20:52:58.891809Z",
     "iopub.status.idle": "2024-11-23T20:53:00.674518Z",
     "shell.execute_reply": "2024-11-23T20:53:00.673216Z"
    },
    "papermill": {
     "duration": 1.807097,
     "end_time": "2024-11-23T20:53:00.677545",
     "exception": false,
     "start_time": "2024-11-23T20:52:58.870448",
     "status": "completed"
    },
    "tags": []
   },
   "outputs": [
    {
     "name": "stderr",
     "output_type": "stream",
     "text": [
      "/opt/conda/lib/python3.10/site-packages/seaborn/_oldcore.py:1119: FutureWarning: use_inf_as_na option is deprecated and will be removed in a future version. Convert inf values to NaN before operating instead.\n",
      "  with pd.option_context('mode.use_inf_as_na', True):\n"
     ]
    },
    {
     "data": {
      "image/png": "[encoded data removed]",
      "text/plain": [
       "<Figure size 640x480 with 1 Axes>"
      ]
     },
     "metadata": {},
     "output_type": "display_data"
    }
   ],
   "source": [
    "# numerik değişkenin yoğunluğunu gösterir.\n",
    "sns.kdeplot(df['UnitPrice'], fill = True);"
   ]
  },
  {
   "cell_type": "markdown",
   "id": "959d5be6",
   "metadata": {
    "papermill": {
     "duration": 0.02163,
     "end_time": "2024-11-23T20:53:00.719668",
     "exception": false,
     "start_time": "2024-11-23T20:53:00.698038",
     "status": "completed"
    },
    "tags": []
   },
   "source": [
    "**5. Aykırı Değer Analizi (Outliers)**"
   ]
  },
  {
   "cell_type": "markdown",
   "id": "b4f89cb9",
   "metadata": {
    "papermill": {
     "duration": 0.019517,
     "end_time": "2024-11-23T20:53:00.760121",
     "exception": false,
     "start_time": "2024-11-23T20:53:00.740604",
     "status": "completed"
    },
    "tags": []
   },
   "source": [
    "Aykırı değer analizi, veri setindeki normalden farklı, aşırı büyük ya da küçük olan verilerin tespit edilmesi sürecidir. Bu tür veriler, genellikle hata, ölçüm hatası, veri toplama hataları veya nadir olayları temsil edebilir. Aykırı değerlerin doğru bir şekilde tespit edilmesi, model performansını iyileştirebilir çünkü bu değerler, modelin doğru öğrenmesini engelleyebilir veya yanıltıcı sonuçlar doğurabilir."
   ]
  },
  {
   "cell_type": "code",
   "execution_count": 37,
   "id": "59882532",
   "metadata": {
    "execution": {
     "iopub.execute_input": "2024-11-23T20:53:00.802247Z",
     "iopub.status.busy": "2024-11-23T20:53:00.801858Z",
     "iopub.status.idle": "2024-11-23T20:53:01.186790Z",
     "shell.execute_reply": "2024-11-23T20:53:01.185599Z"
    },
    "papermill": {
     "duration": 0.408908,
     "end_time": "2024-11-23T20:53:01.189256",
     "exception": false,
     "start_time": "2024-11-23T20:53:00.780348",
     "status": "completed"
    },
    "tags": []
   },
   "outputs": [
    {
     "data": {
      "image/png": "[encoded data removed]",
      "text/plain": [
       "<Figure size 800x600 with 1 Axes>"
      ]
     },
     "metadata": {},
     "output_type": "display_data"
    }
   ],
   "source": [
    "#  IQR'a göre aykırı değerleri görselleştirebiliriz.\n",
    "plt.figure(figsize = (8, 6))\n",
    "sns.boxplot(data = df,\n",
    "            y = df[\"UnitPrice\"],\n",
    "            orient = \"v\");\n"
   ]
  },
  {
   "cell_type": "code",
   "execution_count": 38,
   "id": "751e922a",
   "metadata": {
    "execution": {
     "iopub.execute_input": "2024-11-23T20:53:01.232564Z",
     "iopub.status.busy": "2024-11-23T20:53:01.231375Z",
     "iopub.status.idle": "2024-11-23T20:53:01.251102Z",
     "shell.execute_reply": "2024-11-23T20:53:01.249695Z"
    },
    "papermill": {
     "duration": 0.044238,
     "end_time": "2024-11-23T20:53:01.253824",
     "exception": false,
     "start_time": "2024-11-23T20:53:01.209586",
     "status": "completed"
    },
    "tags": []
   },
   "outputs": [
    {
     "name": "stdout",
     "output_type": "stream",
     "text": [
      "1.25\n",
      "3.75\n",
      "2.5\n"
     ]
    }
   ],
   "source": [
    "# Quantile değerlerin belirlenmesi.\n",
    "Q1 = df[\"UnitPrice\"].quantile(0.25)\n",
    "Q3 = df[\"UnitPrice\"].quantile(0.75)\n",
    "\n",
    "print(Q1)\n",
    "print(Q3)\n",
    "\n",
    "# IQR değerin belirlenmesi.\n",
    "IQR = Q3-Q1\n",
    "print(IQR)\n",
    "\n",
    "# Alt ve üst sınırların belirlenmesi.\n",
    "lower_fence = Q1 - 1.5*IQR\n",
    "upper_fence = Q3 + 1.5*IQR"
   ]
  },
  {
   "cell_type": "markdown",
   "id": "dcc79c54",
   "metadata": {
    "papermill": {
     "duration": 0.020074,
     "end_time": "2024-11-23T20:53:01.294774",
     "exception": false,
     "start_time": "2024-11-23T20:53:01.274700",
     "status": "completed"
    },
    "tags": []
   },
   "source": [
    "Aykırı Gözlemlerin Silinmesi"
   ]
  },
  {
   "cell_type": "code",
   "execution_count": 39,
   "id": "869a3c5f",
   "metadata": {
    "execution": {
     "iopub.execute_input": "2024-11-23T20:53:01.337302Z",
     "iopub.status.busy": "2024-11-23T20:53:01.336920Z",
     "iopub.status.idle": "2024-11-23T20:53:01.376845Z",
     "shell.execute_reply": "2024-11-23T20:53:01.375720Z"
    },
    "papermill": {
     "duration": 0.06434,
     "end_time": "2024-11-23T20:53:01.379572",
     "exception": false,
     "start_time": "2024-11-23T20:53:01.315232",
     "status": "completed"
    },
    "tags": []
   },
   "outputs": [
    {
     "data": {
      "text/html": [
       "<div>\n",
       "<style scoped>\n",
       "    .dataframe tbody tr th:only-of-type {\n",
       "        vertical-align: middle;\n",
       "    }\n",
       "\n",
       "    .dataframe tbody tr th {\n",
       "        vertical-align: top;\n",
       "    }\n",
       "\n",
       "    .dataframe thead th {\n",
       "        text-align: right;\n",
       "    }\n",
       "</style>\n",
       "<table border=\"1\" class=\"dataframe\">\n",
       "  <thead>\n",
       "    <tr style=\"text-align: right;\">\n",
       "      <th></th>\n",
       "      <th>InvoiceNo</th>\n",
       "      <th>StockCode</th>\n",
       "      <th>Description</th>\n",
       "      <th>Quantity</th>\n",
       "      <th>InvoiceDate</th>\n",
       "      <th>UnitPrice</th>\n",
       "      <th>CustomerID</th>\n",
       "      <th>Country</th>\n",
       "    </tr>\n",
       "  </thead>\n",
       "  <tbody>\n",
       "    <tr>\n",
       "      <th>0</th>\n",
       "      <td>536365</td>\n",
       "      <td>85123A</td>\n",
       "      <td>WHITE HANGING HEART T-LIGHT HOLDER</td>\n",
       "      <td>6.0</td>\n",
       "      <td>12/1/2010 8:26</td>\n",
       "      <td>2.55</td>\n",
       "      <td>17850.0</td>\n",
       "      <td>United Kingdom</td>\n",
       "    </tr>\n",
       "    <tr>\n",
       "      <th>1</th>\n",
       "      <td>536365</td>\n",
       "      <td>71053</td>\n",
       "      <td>WHITE METAL LANTERN</td>\n",
       "      <td>6.0</td>\n",
       "      <td>12/1/2010 8:26</td>\n",
       "      <td>3.39</td>\n",
       "      <td>17850.0</td>\n",
       "      <td>United Kingdom</td>\n",
       "    </tr>\n",
       "    <tr>\n",
       "      <th>2</th>\n",
       "      <td>536365</td>\n",
       "      <td>84406B</td>\n",
       "      <td>CREAM CUPID HEARTS COAT HANGER</td>\n",
       "      <td>8.0</td>\n",
       "      <td>12/1/2010 8:26</td>\n",
       "      <td>2.75</td>\n",
       "      <td>17850.0</td>\n",
       "      <td>United Kingdom</td>\n",
       "    </tr>\n",
       "    <tr>\n",
       "      <th>3</th>\n",
       "      <td>536365</td>\n",
       "      <td>84029G</td>\n",
       "      <td>KNITTED UNION FLAG HOT WATER BOTTLE</td>\n",
       "      <td>6.0</td>\n",
       "      <td>12/1/2010 8:26</td>\n",
       "      <td>3.39</td>\n",
       "      <td>17850.0</td>\n",
       "      <td>United Kingdom</td>\n",
       "    </tr>\n",
       "    <tr>\n",
       "      <th>4</th>\n",
       "      <td>536365</td>\n",
       "      <td>84029E</td>\n",
       "      <td>RED WOOLLY HOTTIE WHITE HEART.</td>\n",
       "      <td>6.0</td>\n",
       "      <td>12/1/2010 8:26</td>\n",
       "      <td>3.39</td>\n",
       "      <td>17850.0</td>\n",
       "      <td>United Kingdom</td>\n",
       "    </tr>\n",
       "    <tr>\n",
       "      <th>...</th>\n",
       "      <td>...</td>\n",
       "      <td>...</td>\n",
       "      <td>...</td>\n",
       "      <td>...</td>\n",
       "      <td>...</td>\n",
       "      <td>...</td>\n",
       "      <td>...</td>\n",
       "      <td>...</td>\n",
       "    </tr>\n",
       "    <tr>\n",
       "      <th>541900</th>\n",
       "      <td>581587</td>\n",
       "      <td>22730</td>\n",
       "      <td>ALARM CLOCK BAKELIKE IVORY</td>\n",
       "      <td>4.0</td>\n",
       "      <td>12/9/2011 12:50</td>\n",
       "      <td>3.75</td>\n",
       "      <td>12680.0</td>\n",
       "      <td>France</td>\n",
       "    </tr>\n",
       "    <tr>\n",
       "      <th>541903</th>\n",
       "      <td>581587</td>\n",
       "      <td>23256</td>\n",
       "      <td>CHILDRENS CUTLERY SPACEBOY</td>\n",
       "      <td>4.0</td>\n",
       "      <td>12/9/2011 12:50</td>\n",
       "      <td>4.15</td>\n",
       "      <td>12680.0</td>\n",
       "      <td>France</td>\n",
       "    </tr>\n",
       "    <tr>\n",
       "      <th>541906</th>\n",
       "      <td>581587</td>\n",
       "      <td>23254</td>\n",
       "      <td>CHILDRENS CUTLERY DOLLY GIRL</td>\n",
       "      <td>4.0</td>\n",
       "      <td>12/9/2011 12:50</td>\n",
       "      <td>4.15</td>\n",
       "      <td>12680.0</td>\n",
       "      <td>France</td>\n",
       "    </tr>\n",
       "    <tr>\n",
       "      <th>541907</th>\n",
       "      <td>581587</td>\n",
       "      <td>23255</td>\n",
       "      <td>CHILDRENS CUTLERY CIRCUS PARADE</td>\n",
       "      <td>4.0</td>\n",
       "      <td>12/9/2011 12:50</td>\n",
       "      <td>4.15</td>\n",
       "      <td>12680.0</td>\n",
       "      <td>France</td>\n",
       "    </tr>\n",
       "    <tr>\n",
       "      <th>541908</th>\n",
       "      <td>581587</td>\n",
       "      <td>22138</td>\n",
       "      <td>BAKING SET 9 PIECE RETROSPOT</td>\n",
       "      <td>3.0</td>\n",
       "      <td>12/9/2011 12:50</td>\n",
       "      <td>4.95</td>\n",
       "      <td>12680.0</td>\n",
       "      <td>France</td>\n",
       "    </tr>\n",
       "  </tbody>\n",
       "</table>\n",
       "<p>300408 rows × 8 columns</p>\n",
       "</div>"
      ],
      "text/plain": [
       "       InvoiceNo StockCode                          Description  Quantity  \\\n",
       "0         536365    85123A   WHITE HANGING HEART T-LIGHT HOLDER       6.0   \n",
       "1         536365     71053                  WHITE METAL LANTERN       6.0   \n",
       "2         536365    84406B       CREAM CUPID HEARTS COAT HANGER       8.0   \n",
       "3         536365    84029G  KNITTED UNION FLAG HOT WATER BOTTLE       6.0   \n",
       "4         536365    84029E       RED WOOLLY HOTTIE WHITE HEART.       6.0   \n",
       "...          ...       ...                                  ...       ...   \n",
       "541900    581587     22730           ALARM CLOCK BAKELIKE IVORY       4.0   \n",
       "541903    581587     23256          CHILDRENS CUTLERY SPACEBOY        4.0   \n",
       "541906    581587     23254        CHILDRENS CUTLERY DOLLY GIRL        4.0   \n",
       "541907    581587     23255      CHILDRENS CUTLERY CIRCUS PARADE       4.0   \n",
       "541908    581587     22138        BAKING SET 9 PIECE RETROSPOT        3.0   \n",
       "\n",
       "            InvoiceDate  UnitPrice CustomerID         Country  \n",
       "0        12/1/2010 8:26       2.55    17850.0  United Kingdom  \n",
       "1        12/1/2010 8:26       3.39    17850.0  United Kingdom  \n",
       "2        12/1/2010 8:26       2.75    17850.0  United Kingdom  \n",
       "3        12/1/2010 8:26       3.39    17850.0  United Kingdom  \n",
       "4        12/1/2010 8:26       3.39    17850.0  United Kingdom  \n",
       "...                 ...        ...        ...             ...  \n",
       "541900  12/9/2011 12:50       3.75    12680.0          France  \n",
       "541903  12/9/2011 12:50       4.15    12680.0          France  \n",
       "541906  12/9/2011 12:50       4.15    12680.0          France  \n",
       "541907  12/9/2011 12:50       4.15    12680.0          France  \n",
       "541908  12/9/2011 12:50       4.95    12680.0          France  \n",
       "\n",
       "[300408 rows x 8 columns]"
      ]
     },
     "execution_count": 39,
     "metadata": {},
     "output_type": "execute_result"
    }
   ],
   "source": [
    "df_del = df[~(df[\"UnitPrice\"] > upper_fence)]\n",
    "\n",
    "df_del"
   ]
  },
  {
   "cell_type": "code",
   "execution_count": 40,
   "id": "e6844f57",
   "metadata": {
    "execution": {
     "iopub.execute_input": "2024-11-23T20:53:01.422722Z",
     "iopub.status.busy": "2024-11-23T20:53:01.422323Z",
     "iopub.status.idle": "2024-11-23T20:53:01.808486Z",
     "shell.execute_reply": "2024-11-23T20:53:01.807268Z"
    },
    "papermill": {
     "duration": 0.410492,
     "end_time": "2024-11-23T20:53:01.810865",
     "exception": false,
     "start_time": "2024-11-23T20:53:01.400373",
     "status": "completed"
    },
    "tags": []
   },
   "outputs": [
    {
     "data": {
      "image/png": "[encoded data removed]",
      "text/plain": [
       "<Figure size 800x600 with 1 Axes>"
      ]
     },
     "metadata": {},
     "output_type": "display_data"
    }
   ],
   "source": [
    "plt.figure(figsize = (8, 6))\n",
    "sns.boxplot(data = df_del,\n",
    "            y = df_del[\"UnitPrice\"],\n",
    "            orient = \"v\");"
   ]
  },
  {
   "cell_type": "markdown",
   "id": "3cc1f426",
   "metadata": {
    "papermill": {
     "duration": 0.020591,
     "end_time": "2024-11-23T20:53:01.852610",
     "exception": false,
     "start_time": "2024-11-23T20:53:01.832019",
     "status": "completed"
    },
    "tags": []
   },
   "source": [
    "Aykırı değerlerin yerini ortalama değerlerle doldurma"
   ]
  },
  {
   "cell_type": "code",
   "execution_count": 41,
   "id": "e6b8910b",
   "metadata": {
    "execution": {
     "iopub.execute_input": "2024-11-23T20:53:01.897221Z",
     "iopub.status.busy": "2024-11-23T20:53:01.896835Z",
     "iopub.status.idle": "2024-11-23T20:53:01.905875Z",
     "shell.execute_reply": "2024-11-23T20:53:01.904746Z"
    },
    "papermill": {
     "duration": 0.033836,
     "end_time": "2024-11-23T20:53:01.908292",
     "exception": false,
     "start_time": "2024-11-23T20:53:01.874456",
     "status": "completed"
    },
    "tags": []
   },
   "outputs": [],
   "source": [
    "df.loc[df[\"UnitPrice\"] > upper_fence, \"UnitPrice\"] = df[\"UnitPrice\"].mean()"
   ]
  },
  {
   "cell_type": "code",
   "execution_count": 42,
   "id": "51782f10",
   "metadata": {
    "execution": {
     "iopub.execute_input": "2024-11-23T20:53:01.952469Z",
     "iopub.status.busy": "2024-11-23T20:53:01.952069Z",
     "iopub.status.idle": "2024-11-23T20:53:02.129326Z",
     "shell.execute_reply": "2024-11-23T20:53:02.128124Z"
    },
    "papermill": {
     "duration": 0.202586,
     "end_time": "2024-11-23T20:53:02.132154",
     "exception": false,
     "start_time": "2024-11-23T20:53:01.929568",
     "status": "completed"
    },
    "tags": []
   },
   "outputs": [
    {
     "data": {
      "image/png": "[encoded data removed]",
      "text/plain": [
       "<Figure size 800x600 with 1 Axes>"
      ]
     },
     "metadata": {},
     "output_type": "display_data"
    }
   ],
   "source": [
    "plt.figure(figsize = (8, 6))\n",
    "sns.boxplot(x = df[\"UnitPrice\"],\n",
    "            orient = \"h\");  # Horizontal boxplot\n"
   ]
  },
  {
   "cell_type": "markdown",
   "id": "f023e9ff",
   "metadata": {
    "papermill": {
     "duration": 0.020766,
     "end_time": "2024-11-23T20:53:02.174736",
     "exception": false,
     "start_time": "2024-11-23T20:53:02.153970",
     "status": "completed"
    },
    "tags": []
   },
   "source": [
    "**6. Feature Engineering**"
   ]
  },
  {
   "cell_type": "markdown",
   "id": "3c0170da",
   "metadata": {
    "papermill": {
     "duration": 0.02138,
     "end_time": "2024-11-23T20:53:02.217088",
     "exception": false,
     "start_time": "2024-11-23T20:53:02.195708",
     "status": "completed"
    },
    "tags": []
   },
   "source": [
    "UnitPrice Segmentasyonu: UnitPrice değerlerini düşük, orta ve yüksek kategorilere ayırarak, ürün fiyatlarının hangi aralıklarda yoğunlaştığını ve fiyat dağılımını daha kolay analiz etmeyi sağlar. Bu, farklı fiyat segmentleriyle ilgili kararlar alırken yararlıdır."
   ]
  },
  {
   "cell_type": "code",
   "execution_count": 43,
   "id": "9fb8f3f5",
   "metadata": {
    "execution": {
     "iopub.execute_input": "2024-11-23T20:53:02.264948Z",
     "iopub.status.busy": "2024-11-23T20:53:02.264532Z",
     "iopub.status.idle": "2024-11-23T20:53:02.354604Z",
     "shell.execute_reply": "2024-11-23T20:53:02.353381Z"
    },
    "papermill": {
     "duration": 0.118281,
     "end_time": "2024-11-23T20:53:02.357346",
     "exception": false,
     "start_time": "2024-11-23T20:53:02.239065",
     "status": "completed"
    },
    "tags": []
   },
   "outputs": [
    {
     "data": {
      "text/html": [
       "<div>\n",
       "<style scoped>\n",
       "    .dataframe tbody tr th:only-of-type {\n",
       "        vertical-align: middle;\n",
       "    }\n",
       "\n",
       "    .dataframe tbody tr th {\n",
       "        vertical-align: top;\n",
       "    }\n",
       "\n",
       "    .dataframe thead th {\n",
       "        text-align: right;\n",
       "    }\n",
       "</style>\n",
       "<table border=\"1\" class=\"dataframe\">\n",
       "  <thead>\n",
       "    <tr style=\"text-align: right;\">\n",
       "      <th></th>\n",
       "      <th>InvoiceNo</th>\n",
       "      <th>StockCode</th>\n",
       "      <th>Description</th>\n",
       "      <th>Quantity</th>\n",
       "      <th>InvoiceDate</th>\n",
       "      <th>UnitPrice</th>\n",
       "      <th>CustomerID</th>\n",
       "      <th>Country</th>\n",
       "      <th>unit_price_range</th>\n",
       "    </tr>\n",
       "  </thead>\n",
       "  <tbody>\n",
       "    <tr>\n",
       "      <th>0</th>\n",
       "      <td>536365</td>\n",
       "      <td>85123A</td>\n",
       "      <td>WHITE HANGING HEART T-LIGHT HOLDER</td>\n",
       "      <td>6.0</td>\n",
       "      <td>12/1/2010 8:26</td>\n",
       "      <td>2.55</td>\n",
       "      <td>17850.0</td>\n",
       "      <td>United Kingdom</td>\n",
       "      <td>Low</td>\n",
       "    </tr>\n",
       "    <tr>\n",
       "      <th>1</th>\n",
       "      <td>536365</td>\n",
       "      <td>71053</td>\n",
       "      <td>WHITE METAL LANTERN</td>\n",
       "      <td>6.0</td>\n",
       "      <td>12/1/2010 8:26</td>\n",
       "      <td>3.39</td>\n",
       "      <td>17850.0</td>\n",
       "      <td>United Kingdom</td>\n",
       "      <td>Low</td>\n",
       "    </tr>\n",
       "    <tr>\n",
       "      <th>2</th>\n",
       "      <td>536365</td>\n",
       "      <td>84406B</td>\n",
       "      <td>CREAM CUPID HEARTS COAT HANGER</td>\n",
       "      <td>8.0</td>\n",
       "      <td>12/1/2010 8:26</td>\n",
       "      <td>2.75</td>\n",
       "      <td>17850.0</td>\n",
       "      <td>United Kingdom</td>\n",
       "      <td>Low</td>\n",
       "    </tr>\n",
       "  </tbody>\n",
       "</table>\n",
       "</div>"
      ],
      "text/plain": [
       "  InvoiceNo StockCode                         Description  Quantity  \\\n",
       "0    536365    85123A  WHITE HANGING HEART T-LIGHT HOLDER       6.0   \n",
       "1    536365     71053                 WHITE METAL LANTERN       6.0   \n",
       "2    536365    84406B      CREAM CUPID HEARTS COAT HANGER       8.0   \n",
       "\n",
       "      InvoiceDate  UnitPrice CustomerID         Country unit_price_range  \n",
       "0  12/1/2010 8:26       2.55    17850.0  United Kingdom              Low  \n",
       "1  12/1/2010 8:26       3.39    17850.0  United Kingdom              Low  \n",
       "2  12/1/2010 8:26       2.75    17850.0  United Kingdom              Low  "
      ]
     },
     "execution_count": 43,
     "metadata": {},
     "output_type": "execute_result"
    }
   ],
   "source": [
    "def unit_price_range(unit_price):\n",
    "    if unit_price < 10:\n",
    "        return 'Low'\n",
    "    elif 10 <= unit_price <= 50:\n",
    "        return 'Medium'\n",
    "    else:\n",
    "        return 'High'\n",
    "\n",
    "# UnitPrice bazında segmentasyonu uygulama\n",
    "df['unit_price_range'] = df['UnitPrice'].apply(unit_price_range)\n",
    "\n",
    "# İlk 3 satırı görüntüleme\n",
    "df.head(3)\n"
   ]
  },
  {
   "cell_type": "markdown",
   "id": "b9244e2a",
   "metadata": {
    "papermill": {
     "duration": 0.02203,
     "end_time": "2024-11-23T20:53:02.401401",
     "exception": false,
     "start_time": "2024-11-23T20:53:02.379371",
     "status": "completed"
    },
    "tags": []
   },
   "source": [
    "Quantity Segmentasyonu: Quantity değerlerini düşük, orta ve yüksek kategorilere ayırarak, her bir ürün için satılan miktarın hangi seviyelerde olduğunu gösterir. Bu, satış performansını analiz etmek, hangi ürünlerin daha fazla satıldığını ve hangi segmentlerde yoğunlaştığını anlamak için kullanılır."
   ]
  },
  {
   "cell_type": "code",
   "execution_count": 44,
   "id": "80229eee",
   "metadata": {
    "execution": {
     "iopub.execute_input": "2024-11-23T20:53:02.447563Z",
     "iopub.status.busy": "2024-11-23T20:53:02.447128Z",
     "iopub.status.idle": "2024-11-23T20:53:02.538806Z",
     "shell.execute_reply": "2024-11-23T20:53:02.537593Z"
    },
    "papermill": {
     "duration": 0.117858,
     "end_time": "2024-11-23T20:53:02.541206",
     "exception": false,
     "start_time": "2024-11-23T20:53:02.423348",
     "status": "completed"
    },
    "tags": []
   },
   "outputs": [
    {
     "data": {
      "text/html": [
       "<div>\n",
       "<style scoped>\n",
       "    .dataframe tbody tr th:only-of-type {\n",
       "        vertical-align: middle;\n",
       "    }\n",
       "\n",
       "    .dataframe tbody tr th {\n",
       "        vertical-align: top;\n",
       "    }\n",
       "\n",
       "    .dataframe thead th {\n",
       "        text-align: right;\n",
       "    }\n",
       "</style>\n",
       "<table border=\"1\" class=\"dataframe\">\n",
       "  <thead>\n",
       "    <tr style=\"text-align: right;\">\n",
       "      <th></th>\n",
       "      <th>InvoiceNo</th>\n",
       "      <th>StockCode</th>\n",
       "      <th>Description</th>\n",
       "      <th>Quantity</th>\n",
       "      <th>InvoiceDate</th>\n",
       "      <th>UnitPrice</th>\n",
       "      <th>CustomerID</th>\n",
       "      <th>Country</th>\n",
       "      <th>unit_price_range</th>\n",
       "      <th>quantity_range</th>\n",
       "    </tr>\n",
       "  </thead>\n",
       "  <tbody>\n",
       "    <tr>\n",
       "      <th>0</th>\n",
       "      <td>536365</td>\n",
       "      <td>85123A</td>\n",
       "      <td>WHITE HANGING HEART T-LIGHT HOLDER</td>\n",
       "      <td>6.0</td>\n",
       "      <td>12/1/2010 8:26</td>\n",
       "      <td>2.55</td>\n",
       "      <td>17850.0</td>\n",
       "      <td>United Kingdom</td>\n",
       "      <td>Low</td>\n",
       "      <td>Low</td>\n",
       "    </tr>\n",
       "    <tr>\n",
       "      <th>1</th>\n",
       "      <td>536365</td>\n",
       "      <td>71053</td>\n",
       "      <td>WHITE METAL LANTERN</td>\n",
       "      <td>6.0</td>\n",
       "      <td>12/1/2010 8:26</td>\n",
       "      <td>3.39</td>\n",
       "      <td>17850.0</td>\n",
       "      <td>United Kingdom</td>\n",
       "      <td>Low</td>\n",
       "      <td>Low</td>\n",
       "    </tr>\n",
       "    <tr>\n",
       "      <th>2</th>\n",
       "      <td>536365</td>\n",
       "      <td>84406B</td>\n",
       "      <td>CREAM CUPID HEARTS COAT HANGER</td>\n",
       "      <td>8.0</td>\n",
       "      <td>12/1/2010 8:26</td>\n",
       "      <td>2.75</td>\n",
       "      <td>17850.0</td>\n",
       "      <td>United Kingdom</td>\n",
       "      <td>Low</td>\n",
       "      <td>Low</td>\n",
       "    </tr>\n",
       "  </tbody>\n",
       "</table>\n",
       "</div>"
      ],
      "text/plain": [
       "  InvoiceNo StockCode                         Description  Quantity  \\\n",
       "0    536365    85123A  WHITE HANGING HEART T-LIGHT HOLDER       6.0   \n",
       "1    536365     71053                 WHITE METAL LANTERN       6.0   \n",
       "2    536365    84406B      CREAM CUPID HEARTS COAT HANGER       8.0   \n",
       "\n",
       "      InvoiceDate  UnitPrice CustomerID         Country unit_price_range  \\\n",
       "0  12/1/2010 8:26       2.55    17850.0  United Kingdom              Low   \n",
       "1  12/1/2010 8:26       3.39    17850.0  United Kingdom              Low   \n",
       "2  12/1/2010 8:26       2.75    17850.0  United Kingdom              Low   \n",
       "\n",
       "  quantity_range  \n",
       "0            Low  \n",
       "1            Low  \n",
       "2            Low  "
      ]
     },
     "execution_count": 44,
     "metadata": {},
     "output_type": "execute_result"
    }
   ],
   "source": [
    "def quantity_range(quantity):\n",
    "    if quantity < 50:\n",
    "        return 'Low'\n",
    "    elif 50 <= quantity <= 200:\n",
    "        return 'Medium'\n",
    "    else:\n",
    "        return 'High'\n",
    "\n",
    "# Quantity bazında segmentasyonu uygulama\n",
    "df['quantity_range'] = df['Quantity'].apply(quantity_range)\n",
    "\n",
    "# İlk 3 satırı görüntüleme\n",
    "df.head(3)\n"
   ]
  }
 ],
 "metadata": {
  "kaggle": {
   "accelerator": "none",
   "dataSources": [
    {
     "datasetId": 1985,
     "sourceId": 3404,
     "sourceType": "datasetVersion"
    }
   ],
   "dockerImageVersionId": 30786,
   "isGpuEnabled": false,
   "isInternetEnabled": false,
   "language": "python",
   "sourceType": "notebook"
  },
  "kernelspec": {
   "display_name": "Python 3",
   "language": "python",
   "name": "python3"
  },
  "language_info": {
   "codemirror_mode": {
    "name": "ipython",
    "version": 3
   },
   "file_extension": ".py",
   "mimetype": "text/x-python",
   "name": "python",
   "nbconvert_exporter": "python",
   "pygments_lexer": "ipython3",
   "version": "3.10.14"
  },
  "papermill": {
   "default_parameters": {},
   "duration": 22.536276,
   "end_time": "2024-11-23T20:53:03.285337",
   "environment_variables": {},
   "exception": null,
   "input_path": "__notebook__.ipynb",
   "output_path": "__notebook__.ipynb",
   "parameters": {},
   "start_time": "2024-11-23T20:52:40.749061",
   "version": "2.6.0"
  }
 },
 "nbformat": 4,
 "nbformat_minor": 5
}
